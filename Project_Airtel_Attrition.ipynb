{
 "cells": [
  {
   "cell_type": "markdown",
   "metadata": {},
   "source": [
    "# Import library"
   ]
  },
  {
   "cell_type": "code",
   "execution_count": 1,
   "metadata": {},
   "outputs": [],
   "source": [
    "import numpy as np\n",
    "import pandas as pd\n",
    "import matplotlib.pyplot as plt"
   ]
  },
  {
   "cell_type": "markdown",
   "metadata": {},
   "source": [
    "# Import Data"
   ]
  },
  {
   "cell_type": "code",
   "execution_count": 2,
   "metadata": {},
   "outputs": [],
   "source": [
    "# Import data\n",
    "data=pd.read_csv(\"Attrition_Data Import.csv\")"
   ]
  },
  {
   "cell_type": "markdown",
   "metadata": {},
   "source": [
    "# Data Preprocessing"
   ]
  },
  {
   "cell_type": "code",
   "execution_count": 3,
   "metadata": {},
   "outputs": [
    {
     "data": {
      "text/html": [
       "<div>\n",
       "<style scoped>\n",
       "    .dataframe tbody tr th:only-of-type {\n",
       "        vertical-align: middle;\n",
       "    }\n",
       "\n",
       "    .dataframe tbody tr th {\n",
       "        vertical-align: top;\n",
       "    }\n",
       "\n",
       "    .dataframe thead th {\n",
       "        text-align: right;\n",
       "    }\n",
       "</style>\n",
       "<table border=\"1\" class=\"dataframe\">\n",
       "  <thead>\n",
       "    <tr style=\"text-align: right;\">\n",
       "      <th></th>\n",
       "      <th>Sr. No.</th>\n",
       "      <th>Code</th>\n",
       "      <th>Tenure</th>\n",
       "      <th>Status</th>\n",
       "      <th>Gender</th>\n",
       "      <th>Edu Bucket</th>\n",
       "      <th>Outstation/Local</th>\n",
       "      <th>Versant Bucket</th>\n",
       "      <th>Language Queue</th>\n",
       "      <th>Experience (Months)</th>\n",
       "    </tr>\n",
       "  </thead>\n",
       "  <tbody>\n",
       "    <tr>\n",
       "      <th>0</th>\n",
       "      <td>82963178</td>\n",
       "      <td>1</td>\n",
       "      <td>264</td>\n",
       "      <td>Attrited</td>\n",
       "      <td>M</td>\n",
       "      <td>Non Science Graduates</td>\n",
       "      <td>Outstation</td>\n",
       "      <td>50-60</td>\n",
       "      <td>Tamil</td>\n",
       "      <td>3</td>\n",
       "    </tr>\n",
       "    <tr>\n",
       "      <th>1</th>\n",
       "      <td>82963476</td>\n",
       "      <td>0</td>\n",
       "      <td>134</td>\n",
       "      <td>-</td>\n",
       "      <td>F</td>\n",
       "      <td>Non Science Graduates</td>\n",
       "      <td>Outstation</td>\n",
       "      <td>50-60</td>\n",
       "      <td>Telegu</td>\n",
       "      <td>15</td>\n",
       "    </tr>\n",
       "    <tr>\n",
       "      <th>2</th>\n",
       "      <td>82963496</td>\n",
       "      <td>0</td>\n",
       "      <td>192</td>\n",
       "      <td>-</td>\n",
       "      <td>M</td>\n",
       "      <td>Science Graduates</td>\n",
       "      <td>Local</td>\n",
       "      <td>60-70</td>\n",
       "      <td>Malayalam</td>\n",
       "      <td>5</td>\n",
       "    </tr>\n",
       "    <tr>\n",
       "      <th>3</th>\n",
       "      <td>82963552</td>\n",
       "      <td>1</td>\n",
       "      <td>34</td>\n",
       "      <td>Attrited</td>\n",
       "      <td>M</td>\n",
       "      <td>Others</td>\n",
       "      <td>Local</td>\n",
       "      <td>60-70</td>\n",
       "      <td>Hindi</td>\n",
       "      <td>14</td>\n",
       "    </tr>\n",
       "    <tr>\n",
       "      <th>4</th>\n",
       "      <td>82963672</td>\n",
       "      <td>1</td>\n",
       "      <td>250</td>\n",
       "      <td>Attrited</td>\n",
       "      <td>M</td>\n",
       "      <td>Others</td>\n",
       "      <td>Local</td>\n",
       "      <td>50-60</td>\n",
       "      <td>English</td>\n",
       "      <td>18</td>\n",
       "    </tr>\n",
       "  </tbody>\n",
       "</table>\n",
       "</div>"
      ],
      "text/plain": [
       "    Sr. No.  Code  Tenure    Status Gender             Edu Bucket  \\\n",
       "0  82963178     1     264  Attrited      M  Non Science Graduates   \n",
       "1  82963476     0     134         -      F  Non Science Graduates   \n",
       "2  82963496     0     192         -      M      Science Graduates   \n",
       "3  82963552     1      34  Attrited      M                 Others   \n",
       "4  82963672     1     250  Attrited      M                 Others   \n",
       "\n",
       "  Outstation/Local Versant Bucket Language Queue  Experience (Months)  \n",
       "0       Outstation          50-60          Tamil                    3  \n",
       "1       Outstation          50-60         Telegu                   15  \n",
       "2            Local          60-70      Malayalam                    5  \n",
       "3            Local          60-70          Hindi                   14  \n",
       "4            Local          50-60        English                   18  "
      ]
     },
     "execution_count": 3,
     "metadata": {},
     "output_type": "execute_result"
    }
   ],
   "source": [
    "# Data Over View\n",
    "data.head()"
   ]
  },
  {
   "cell_type": "code",
   "execution_count": 4,
   "metadata": {},
   "outputs": [
    {
     "data": {
      "text/plain": [
       "Index(['Sr. No.', 'Code', 'Tenure', 'Status', 'Gender', 'Edu Bucket',\n",
       "       'Outstation/Local', 'Versant Bucket', 'Language Queue',\n",
       "       'Experience (Months)'],\n",
       "      dtype='object')"
      ]
     },
     "execution_count": 4,
     "metadata": {},
     "output_type": "execute_result"
    }
   ],
   "source": [
    "# Columns in the Data\n",
    "data.columns"
   ]
  },
  {
   "cell_type": "markdown",
   "metadata": {},
   "source": [
    "- Some column name contain space and '/' in them, this may cause difficulties for data handling\n",
    "- Replacing spaces and '/' with '_'"
   ]
  },
  {
   "cell_type": "code",
   "execution_count": 5,
   "metadata": {},
   "outputs": [],
   "source": [
    "# Rename Columns\n",
    "data.columns=['Sr._No.', 'Code', 'Tenure', 'Status', 'Gender', 'Edu_Bucket',\n",
    "       'Outstation_Local', 'Versant_Bucket', 'Language_Queue',\n",
    "       'Experience_Months']"
   ]
  },
  {
   "cell_type": "code",
   "execution_count": 6,
   "metadata": {},
   "outputs": [
    {
     "data": {
      "text/html": [
       "<div>\n",
       "<style scoped>\n",
       "    .dataframe tbody tr th:only-of-type {\n",
       "        vertical-align: middle;\n",
       "    }\n",
       "\n",
       "    .dataframe tbody tr th {\n",
       "        vertical-align: top;\n",
       "    }\n",
       "\n",
       "    .dataframe thead th {\n",
       "        text-align: right;\n",
       "    }\n",
       "</style>\n",
       "<table border=\"1\" class=\"dataframe\">\n",
       "  <thead>\n",
       "    <tr style=\"text-align: right;\">\n",
       "      <th></th>\n",
       "      <th>Sr._No.</th>\n",
       "      <th>Code</th>\n",
       "      <th>Tenure</th>\n",
       "      <th>Status</th>\n",
       "      <th>Gender</th>\n",
       "      <th>Edu_Bucket</th>\n",
       "      <th>Outstation_Local</th>\n",
       "      <th>Versant_Bucket</th>\n",
       "      <th>Language_Queue</th>\n",
       "      <th>Experience_Months</th>\n",
       "    </tr>\n",
       "  </thead>\n",
       "  <tbody>\n",
       "    <tr>\n",
       "      <th>0</th>\n",
       "      <td>82963178</td>\n",
       "      <td>1</td>\n",
       "      <td>264</td>\n",
       "      <td>Attrited</td>\n",
       "      <td>M</td>\n",
       "      <td>Non Science Graduates</td>\n",
       "      <td>Outstation</td>\n",
       "      <td>50-60</td>\n",
       "      <td>Tamil</td>\n",
       "      <td>3</td>\n",
       "    </tr>\n",
       "    <tr>\n",
       "      <th>1</th>\n",
       "      <td>82963476</td>\n",
       "      <td>0</td>\n",
       "      <td>134</td>\n",
       "      <td>-</td>\n",
       "      <td>F</td>\n",
       "      <td>Non Science Graduates</td>\n",
       "      <td>Outstation</td>\n",
       "      <td>50-60</td>\n",
       "      <td>Telegu</td>\n",
       "      <td>15</td>\n",
       "    </tr>\n",
       "    <tr>\n",
       "      <th>2</th>\n",
       "      <td>82963496</td>\n",
       "      <td>0</td>\n",
       "      <td>192</td>\n",
       "      <td>-</td>\n",
       "      <td>M</td>\n",
       "      <td>Science Graduates</td>\n",
       "      <td>Local</td>\n",
       "      <td>60-70</td>\n",
       "      <td>Malayalam</td>\n",
       "      <td>5</td>\n",
       "    </tr>\n",
       "    <tr>\n",
       "      <th>3</th>\n",
       "      <td>82963552</td>\n",
       "      <td>1</td>\n",
       "      <td>34</td>\n",
       "      <td>Attrited</td>\n",
       "      <td>M</td>\n",
       "      <td>Others</td>\n",
       "      <td>Local</td>\n",
       "      <td>60-70</td>\n",
       "      <td>Hindi</td>\n",
       "      <td>14</td>\n",
       "    </tr>\n",
       "    <tr>\n",
       "      <th>4</th>\n",
       "      <td>82963672</td>\n",
       "      <td>1</td>\n",
       "      <td>250</td>\n",
       "      <td>Attrited</td>\n",
       "      <td>M</td>\n",
       "      <td>Others</td>\n",
       "      <td>Local</td>\n",
       "      <td>50-60</td>\n",
       "      <td>English</td>\n",
       "      <td>18</td>\n",
       "    </tr>\n",
       "  </tbody>\n",
       "</table>\n",
       "</div>"
      ],
      "text/plain": [
       "    Sr._No.  Code  Tenure    Status Gender             Edu_Bucket  \\\n",
       "0  82963178     1     264  Attrited      M  Non Science Graduates   \n",
       "1  82963476     0     134         -      F  Non Science Graduates   \n",
       "2  82963496     0     192         -      M      Science Graduates   \n",
       "3  82963552     1      34  Attrited      M                 Others   \n",
       "4  82963672     1     250  Attrited      M                 Others   \n",
       "\n",
       "  Outstation_Local Versant_Bucket Language_Queue  Experience_Months  \n",
       "0       Outstation          50-60          Tamil                  3  \n",
       "1       Outstation          50-60         Telegu                 15  \n",
       "2            Local          60-70      Malayalam                  5  \n",
       "3            Local          60-70          Hindi                 14  \n",
       "4            Local          50-60        English                 18  "
      ]
     },
     "execution_count": 6,
     "metadata": {},
     "output_type": "execute_result"
    }
   ],
   "source": [
    "data.head()"
   ]
  },
  {
   "cell_type": "code",
   "execution_count": 7,
   "metadata": {},
   "outputs": [
    {
     "data": {
      "text/plain": [
       "(100, 10)"
      ]
     },
     "execution_count": 7,
     "metadata": {},
     "output_type": "execute_result"
    }
   ],
   "source": [
    "# Number of rows and column\n",
    "data.shape"
   ]
  },
  {
   "cell_type": "code",
   "execution_count": 8,
   "metadata": {},
   "outputs": [
    {
     "name": "stdout",
     "output_type": "stream",
     "text": [
      "<class 'pandas.core.frame.DataFrame'>\n",
      "RangeIndex: 100 entries, 0 to 99\n",
      "Data columns (total 10 columns):\n",
      " #   Column             Non-Null Count  Dtype \n",
      "---  ------             --------------  ----- \n",
      " 0   Sr._No.            100 non-null    int64 \n",
      " 1   Code               100 non-null    int64 \n",
      " 2   Tenure             100 non-null    int64 \n",
      " 3   Status             100 non-null    object\n",
      " 4   Gender             100 non-null    object\n",
      " 5   Edu_Bucket         100 non-null    object\n",
      " 6   Outstation_Local   100 non-null    object\n",
      " 7   Versant_Bucket     100 non-null    object\n",
      " 8   Language_Queue     100 non-null    object\n",
      " 9   Experience_Months  100 non-null    int64 \n",
      "dtypes: int64(4), object(6)\n",
      "memory usage: 7.9+ KB\n"
     ]
    }
   ],
   "source": [
    "# Information \n",
    "data.info()"
   ]
  },
  {
   "cell_type": "code",
   "execution_count": 9,
   "metadata": {},
   "outputs": [
    {
     "data": {
      "text/plain": [
       "Sr._No.              0\n",
       "Code                 0\n",
       "Tenure               0\n",
       "Status               0\n",
       "Gender               0\n",
       "Edu_Bucket           0\n",
       "Outstation_Local     0\n",
       "Versant_Bucket       0\n",
       "Language_Queue       0\n",
       "Experience_Months    0\n",
       "dtype: int64"
      ]
     },
     "execution_count": 9,
     "metadata": {},
     "output_type": "execute_result"
    }
   ],
   "source": [
    "# Check for missing value\n",
    "data.isnull().sum()"
   ]
  },
  {
   "cell_type": "markdown",
   "metadata": {},
   "source": [
    "- This data set does not contain any null values"
   ]
  },
  {
   "cell_type": "code",
   "execution_count": 10,
   "metadata": {},
   "outputs": [
    {
     "data": {
      "text/html": [
       "<div>\n",
       "<style scoped>\n",
       "    .dataframe tbody tr th:only-of-type {\n",
       "        vertical-align: middle;\n",
       "    }\n",
       "\n",
       "    .dataframe tbody tr th {\n",
       "        vertical-align: top;\n",
       "    }\n",
       "\n",
       "    .dataframe thead th {\n",
       "        text-align: right;\n",
       "    }\n",
       "</style>\n",
       "<table border=\"1\" class=\"dataframe\">\n",
       "  <thead>\n",
       "    <tr style=\"text-align: right;\">\n",
       "      <th></th>\n",
       "      <th>Sr._No.</th>\n",
       "      <th>Code</th>\n",
       "      <th>Tenure</th>\n",
       "      <th>Experience_Months</th>\n",
       "    </tr>\n",
       "  </thead>\n",
       "  <tbody>\n",
       "    <tr>\n",
       "      <th>count</th>\n",
       "      <td>1.000000e+02</td>\n",
       "      <td>100.000000</td>\n",
       "      <td>100.000000</td>\n",
       "      <td>100.000000</td>\n",
       "    </tr>\n",
       "    <tr>\n",
       "      <th>mean</th>\n",
       "      <td>8.297256e+07</td>\n",
       "      <td>0.380000</td>\n",
       "      <td>155.640000</td>\n",
       "      <td>12.900000</td>\n",
       "    </tr>\n",
       "    <tr>\n",
       "      <th>std</th>\n",
       "      <td>6.556405e+03</td>\n",
       "      <td>0.487832</td>\n",
       "      <td>84.556301</td>\n",
       "      <td>7.661395</td>\n",
       "    </tr>\n",
       "    <tr>\n",
       "      <th>min</th>\n",
       "      <td>8.296318e+07</td>\n",
       "      <td>0.000000</td>\n",
       "      <td>15.000000</td>\n",
       "      <td>0.000000</td>\n",
       "    </tr>\n",
       "    <tr>\n",
       "      <th>25%</th>\n",
       "      <td>8.296598e+07</td>\n",
       "      <td>0.000000</td>\n",
       "      <td>73.750000</td>\n",
       "      <td>6.000000</td>\n",
       "    </tr>\n",
       "    <tr>\n",
       "      <th>50%</th>\n",
       "      <td>8.297213e+07</td>\n",
       "      <td>0.000000</td>\n",
       "      <td>151.000000</td>\n",
       "      <td>13.000000</td>\n",
       "    </tr>\n",
       "    <tr>\n",
       "      <th>75%</th>\n",
       "      <td>8.297852e+07</td>\n",
       "      <td>1.000000</td>\n",
       "      <td>231.250000</td>\n",
       "      <td>19.000000</td>\n",
       "    </tr>\n",
       "    <tr>\n",
       "      <th>max</th>\n",
       "      <td>8.298268e+07</td>\n",
       "      <td>1.000000</td>\n",
       "      <td>298.000000</td>\n",
       "      <td>25.000000</td>\n",
       "    </tr>\n",
       "  </tbody>\n",
       "</table>\n",
       "</div>"
      ],
      "text/plain": [
       "            Sr._No.        Code      Tenure  Experience_Months\n",
       "count  1.000000e+02  100.000000  100.000000         100.000000\n",
       "mean   8.297256e+07    0.380000  155.640000          12.900000\n",
       "std    6.556405e+03    0.487832   84.556301           7.661395\n",
       "min    8.296318e+07    0.000000   15.000000           0.000000\n",
       "25%    8.296598e+07    0.000000   73.750000           6.000000\n",
       "50%    8.297213e+07    0.000000  151.000000          13.000000\n",
       "75%    8.297852e+07    1.000000  231.250000          19.000000\n",
       "max    8.298268e+07    1.000000  298.000000          25.000000"
      ]
     },
     "execution_count": 10,
     "metadata": {},
     "output_type": "execute_result"
    }
   ],
   "source": [
    "data.describe()"
   ]
  },
  {
   "cell_type": "markdown",
   "metadata": {},
   "source": [
    "- For both Tenure and Experience_Months difference between mean and median are not so heigh \n",
    "- also minimum, amximum, Q1,Q2,Q3 valuees are well distributed\n",
    "- So, this two column may not contain any Outlier"
   ]
  },
  {
   "cell_type": "markdown",
   "metadata": {},
   "source": [
    "Outlire Detection"
   ]
  },
  {
   "cell_type": "code",
   "execution_count": 11,
   "metadata": {},
   "outputs": [
    {
     "data": {
      "image/png": "[encoded data removed]",
      "text/plain": [
       "<Figure size 360x216 with 2 Axes>"
      ]
     },
     "metadata": {
      "needs_background": "light"
     },
     "output_type": "display_data"
    }
   ],
   "source": [
    "%matplotlib inline\n",
    "plt.figure(figsize=[5,3])\n",
    "\n",
    "plt.subplot(1, 2, 1)\n",
    "plt.boxplot(data.Tenure,)\n",
    "plt.title('$Tenuer$')\n",
    "\n",
    "plt.subplot(1, 2, 2)\n",
    "plt.boxplot(data.Experience_Months)\n",
    "plt.title('$Experience$')\n",
    "\n",
    "plt.show()"
   ]
  },
  {
   "cell_type": "markdown",
   "metadata": {},
   "source": [
    "- So, for both the neumarical column Tenure and Experience_Months there is no outlire"
   ]
  },
  {
   "cell_type": "markdown",
   "metadata": {},
   "source": [
    "### Chacking classes for categorical data"
   ]
  },
  {
   "cell_type": "code",
   "execution_count": 12,
   "metadata": {},
   "outputs": [
    {
     "data": {
      "text/plain": [
       "0    62\n",
       "1    38\n",
       "Name: Code, dtype: int64"
      ]
     },
     "execution_count": 12,
     "metadata": {},
     "output_type": "execute_result"
    }
   ],
   "source": [
    "data.Code.value_counts()"
   ]
  },
  {
   "cell_type": "code",
   "execution_count": 13,
   "metadata": {},
   "outputs": [
    {
     "data": {
      "text/plain": [
       "-           57\n",
       "Attrited    43\n",
       "Name: Status, dtype: int64"
      ]
     },
     "execution_count": 13,
     "metadata": {},
     "output_type": "execute_result"
    }
   ],
   "source": [
    "data.Status.value_counts()"
   ]
  },
  {
   "cell_type": "markdown",
   "metadata": {},
   "source": [
    " "
   ]
  },
  {
   "cell_type": "markdown",
   "metadata": {},
   "source": [
    "#### *Replacing '-' with 'Not Attrited'*"
   ]
  },
  {
   "cell_type": "markdown",
   "metadata": {},
   "source": [
    " "
   ]
  },
  {
   "cell_type": "code",
   "execution_count": 14,
   "metadata": {},
   "outputs": [],
   "source": [
    "data.loc[(data['Status']=='-'),'Status']='Not Attrited'"
   ]
  },
  {
   "cell_type": "code",
   "execution_count": 15,
   "metadata": {},
   "outputs": [
    {
     "data": {
      "text/plain": [
       "Not Attrited    57\n",
       "Attrited        43\n",
       "Name: Status, dtype: int64"
      ]
     },
     "execution_count": 15,
     "metadata": {},
     "output_type": "execute_result"
    }
   ],
   "source": [
    "data.Status.value_counts()"
   ]
  },
  {
   "cell_type": "code",
   "execution_count": 16,
   "metadata": {},
   "outputs": [
    {
     "data": {
      "text/plain": [
       "F    53\n",
       "M    47\n",
       "Name: Gender, dtype: int64"
      ]
     },
     "execution_count": 16,
     "metadata": {},
     "output_type": "execute_result"
    }
   ],
   "source": [
    "data.Gender.value_counts()"
   ]
  },
  {
   "cell_type": "code",
   "execution_count": 17,
   "metadata": {},
   "outputs": [
    {
     "data": {
      "text/plain": [
       "Non Science Graduates    50\n",
       "Science Graduates        31\n",
       "Others                   19\n",
       "Name: Edu_Bucket, dtype: int64"
      ]
     },
     "execution_count": 17,
     "metadata": {},
     "output_type": "execute_result"
    }
   ],
   "source": [
    "data.Edu_Bucket.value_counts()"
   ]
  },
  {
   "cell_type": "code",
   "execution_count": 18,
   "metadata": {},
   "outputs": [
    {
     "data": {
      "text/plain": [
       "Local         51\n",
       "Outstation    49\n",
       "Name: Outstation_Local, dtype: int64"
      ]
     },
     "execution_count": 18,
     "metadata": {},
     "output_type": "execute_result"
    }
   ],
   "source": [
    "data.Outstation_Local.value_counts()"
   ]
  },
  {
   "cell_type": "code",
   "execution_count": 19,
   "metadata": {},
   "outputs": [
    {
     "data": {
      "text/plain": [
       "50-60    34\n",
       "40-50    31\n",
       "60-70    21\n",
       "70-80    14\n",
       "Name: Versant_Bucket, dtype: int64"
      ]
     },
     "execution_count": 19,
     "metadata": {},
     "output_type": "execute_result"
    }
   ],
   "source": [
    "data.Versant_Bucket.value_counts()"
   ]
  },
  {
   "cell_type": "code",
   "execution_count": 20,
   "metadata": {},
   "outputs": [
    {
     "data": {
      "text/plain": [
       "Tamil        30\n",
       "Telegu       19\n",
       "Kannada      14\n",
       "English      14\n",
       "Hindi        12\n",
       "Malayalam    11\n",
       "Name: Language_Queue, dtype: int64"
      ]
     },
     "execution_count": 20,
     "metadata": {},
     "output_type": "execute_result"
    }
   ],
   "source": [
    "data.Language_Queue.value_counts()"
   ]
  },
  {
   "cell_type": "code",
   "execution_count": 21,
   "metadata": {},
   "outputs": [
    {
     "data": {
      "text/html": [
       "<div>\n",
       "<style scoped>\n",
       "    .dataframe tbody tr th:only-of-type {\n",
       "        vertical-align: middle;\n",
       "    }\n",
       "\n",
       "    .dataframe tbody tr th {\n",
       "        vertical-align: top;\n",
       "    }\n",
       "\n",
       "    .dataframe thead th {\n",
       "        text-align: right;\n",
       "    }\n",
       "</style>\n",
       "<table border=\"1\" class=\"dataframe\">\n",
       "  <thead>\n",
       "    <tr style=\"text-align: right;\">\n",
       "      <th></th>\n",
       "      <th>Sr._No.</th>\n",
       "      <th>Code</th>\n",
       "      <th>Tenure</th>\n",
       "      <th>Status</th>\n",
       "      <th>Gender</th>\n",
       "      <th>Edu_Bucket</th>\n",
       "      <th>Outstation_Local</th>\n",
       "      <th>Versant_Bucket</th>\n",
       "      <th>Language_Queue</th>\n",
       "      <th>Experience_Months</th>\n",
       "    </tr>\n",
       "  </thead>\n",
       "  <tbody>\n",
       "    <tr>\n",
       "      <th>0</th>\n",
       "      <td>82963178</td>\n",
       "      <td>1</td>\n",
       "      <td>264</td>\n",
       "      <td>Attrited</td>\n",
       "      <td>M</td>\n",
       "      <td>Non Science Graduates</td>\n",
       "      <td>Outstation</td>\n",
       "      <td>50-60</td>\n",
       "      <td>Tamil</td>\n",
       "      <td>3</td>\n",
       "    </tr>\n",
       "    <tr>\n",
       "      <th>1</th>\n",
       "      <td>82963476</td>\n",
       "      <td>0</td>\n",
       "      <td>134</td>\n",
       "      <td>Not Attrited</td>\n",
       "      <td>F</td>\n",
       "      <td>Non Science Graduates</td>\n",
       "      <td>Outstation</td>\n",
       "      <td>50-60</td>\n",
       "      <td>Telegu</td>\n",
       "      <td>15</td>\n",
       "    </tr>\n",
       "    <tr>\n",
       "      <th>2</th>\n",
       "      <td>82963496</td>\n",
       "      <td>0</td>\n",
       "      <td>192</td>\n",
       "      <td>Not Attrited</td>\n",
       "      <td>M</td>\n",
       "      <td>Science Graduates</td>\n",
       "      <td>Local</td>\n",
       "      <td>60-70</td>\n",
       "      <td>Malayalam</td>\n",
       "      <td>5</td>\n",
       "    </tr>\n",
       "    <tr>\n",
       "      <th>3</th>\n",
       "      <td>82963552</td>\n",
       "      <td>1</td>\n",
       "      <td>34</td>\n",
       "      <td>Attrited</td>\n",
       "      <td>M</td>\n",
       "      <td>Others</td>\n",
       "      <td>Local</td>\n",
       "      <td>60-70</td>\n",
       "      <td>Hindi</td>\n",
       "      <td>14</td>\n",
       "    </tr>\n",
       "    <tr>\n",
       "      <th>4</th>\n",
       "      <td>82963672</td>\n",
       "      <td>1</td>\n",
       "      <td>250</td>\n",
       "      <td>Attrited</td>\n",
       "      <td>M</td>\n",
       "      <td>Others</td>\n",
       "      <td>Local</td>\n",
       "      <td>50-60</td>\n",
       "      <td>English</td>\n",
       "      <td>18</td>\n",
       "    </tr>\n",
       "  </tbody>\n",
       "</table>\n",
       "</div>"
      ],
      "text/plain": [
       "    Sr._No.  Code  Tenure        Status Gender             Edu_Bucket  \\\n",
       "0  82963178     1     264      Attrited      M  Non Science Graduates   \n",
       "1  82963476     0     134  Not Attrited      F  Non Science Graduates   \n",
       "2  82963496     0     192  Not Attrited      M      Science Graduates   \n",
       "3  82963552     1      34      Attrited      M                 Others   \n",
       "4  82963672     1     250      Attrited      M                 Others   \n",
       "\n",
       "  Outstation_Local Versant_Bucket Language_Queue  Experience_Months  \n",
       "0       Outstation          50-60          Tamil                  3  \n",
       "1       Outstation          50-60         Telegu                 15  \n",
       "2            Local          60-70      Malayalam                  5  \n",
       "3            Local          60-70          Hindi                 14  \n",
       "4            Local          50-60        English                 18  "
      ]
     },
     "execution_count": 21,
     "metadata": {},
     "output_type": "execute_result"
    }
   ],
   "source": [
    "data.head(5)"
   ]
  },
  {
   "cell_type": "markdown",
   "metadata": {},
   "source": [
    "# Converting Categorical data into factors"
   ]
  },
  {
   "cell_type": "code",
   "execution_count": 22,
   "metadata": {},
   "outputs": [],
   "source": [
    "d=data"
   ]
  },
  {
   "cell_type": "code",
   "execution_count": 23,
   "metadata": {},
   "outputs": [],
   "source": [
    "train=pd.get_dummies(d, columns=['Gender','Edu_Bucket','Outstation_Local','Versant_Bucket','Language_Queue'])"
   ]
  },
  {
   "cell_type": "code",
   "execution_count": 24,
   "metadata": {},
   "outputs": [
    {
     "data": {
      "text/html": [
       "<div>\n",
       "<style scoped>\n",
       "    .dataframe tbody tr th:only-of-type {\n",
       "        vertical-align: middle;\n",
       "    }\n",
       "\n",
       "    .dataframe tbody tr th {\n",
       "        vertical-align: top;\n",
       "    }\n",
       "\n",
       "    .dataframe thead th {\n",
       "        text-align: right;\n",
       "    }\n",
       "</style>\n",
       "<table border=\"1\" class=\"dataframe\">\n",
       "  <thead>\n",
       "    <tr style=\"text-align: right;\">\n",
       "      <th></th>\n",
       "      <th>Sr._No.</th>\n",
       "      <th>Code</th>\n",
       "      <th>Tenure</th>\n",
       "      <th>Status</th>\n",
       "      <th>Experience_Months</th>\n",
       "      <th>Gender_F</th>\n",
       "      <th>Gender_M</th>\n",
       "      <th>Edu_Bucket_Non Science Graduates</th>\n",
       "      <th>Edu_Bucket_Others</th>\n",
       "      <th>Edu_Bucket_Science Graduates</th>\n",
       "      <th>...</th>\n",
       "      <th>Versant_Bucket_40-50</th>\n",
       "      <th>Versant_Bucket_50-60</th>\n",
       "      <th>Versant_Bucket_60-70</th>\n",
       "      <th>Versant_Bucket_70-80</th>\n",
       "      <th>Language_Queue_English</th>\n",
       "      <th>Language_Queue_Hindi</th>\n",
       "      <th>Language_Queue_Kannada</th>\n",
       "      <th>Language_Queue_Malayalam</th>\n",
       "      <th>Language_Queue_Tamil</th>\n",
       "      <th>Language_Queue_Telegu</th>\n",
       "    </tr>\n",
       "  </thead>\n",
       "  <tbody>\n",
       "    <tr>\n",
       "      <th>0</th>\n",
       "      <td>82963178</td>\n",
       "      <td>1</td>\n",
       "      <td>264</td>\n",
       "      <td>Attrited</td>\n",
       "      <td>3</td>\n",
       "      <td>0</td>\n",
       "      <td>1</td>\n",
       "      <td>1</td>\n",
       "      <td>0</td>\n",
       "      <td>0</td>\n",
       "      <td>...</td>\n",
       "      <td>0</td>\n",
       "      <td>1</td>\n",
       "      <td>0</td>\n",
       "      <td>0</td>\n",
       "      <td>0</td>\n",
       "      <td>0</td>\n",
       "      <td>0</td>\n",
       "      <td>0</td>\n",
       "      <td>1</td>\n",
       "      <td>0</td>\n",
       "    </tr>\n",
       "    <tr>\n",
       "      <th>1</th>\n",
       "      <td>82963476</td>\n",
       "      <td>0</td>\n",
       "      <td>134</td>\n",
       "      <td>Not Attrited</td>\n",
       "      <td>15</td>\n",
       "      <td>1</td>\n",
       "      <td>0</td>\n",
       "      <td>1</td>\n",
       "      <td>0</td>\n",
       "      <td>0</td>\n",
       "      <td>...</td>\n",
       "      <td>0</td>\n",
       "      <td>1</td>\n",
       "      <td>0</td>\n",
       "      <td>0</td>\n",
       "      <td>0</td>\n",
       "      <td>0</td>\n",
       "      <td>0</td>\n",
       "      <td>0</td>\n",
       "      <td>0</td>\n",
       "      <td>1</td>\n",
       "    </tr>\n",
       "    <tr>\n",
       "      <th>2</th>\n",
       "      <td>82963496</td>\n",
       "      <td>0</td>\n",
       "      <td>192</td>\n",
       "      <td>Not Attrited</td>\n",
       "      <td>5</td>\n",
       "      <td>0</td>\n",
       "      <td>1</td>\n",
       "      <td>0</td>\n",
       "      <td>0</td>\n",
       "      <td>1</td>\n",
       "      <td>...</td>\n",
       "      <td>0</td>\n",
       "      <td>0</td>\n",
       "      <td>1</td>\n",
       "      <td>0</td>\n",
       "      <td>0</td>\n",
       "      <td>0</td>\n",
       "      <td>0</td>\n",
       "      <td>1</td>\n",
       "      <td>0</td>\n",
       "      <td>0</td>\n",
       "    </tr>\n",
       "    <tr>\n",
       "      <th>3</th>\n",
       "      <td>82963552</td>\n",
       "      <td>1</td>\n",
       "      <td>34</td>\n",
       "      <td>Attrited</td>\n",
       "      <td>14</td>\n",
       "      <td>0</td>\n",
       "      <td>1</td>\n",
       "      <td>0</td>\n",
       "      <td>1</td>\n",
       "      <td>0</td>\n",
       "      <td>...</td>\n",
       "      <td>0</td>\n",
       "      <td>0</td>\n",
       "      <td>1</td>\n",
       "      <td>0</td>\n",
       "      <td>0</td>\n",
       "      <td>1</td>\n",
       "      <td>0</td>\n",
       "      <td>0</td>\n",
       "      <td>0</td>\n",
       "      <td>0</td>\n",
       "    </tr>\n",
       "    <tr>\n",
       "      <th>4</th>\n",
       "      <td>82963672</td>\n",
       "      <td>1</td>\n",
       "      <td>250</td>\n",
       "      <td>Attrited</td>\n",
       "      <td>18</td>\n",
       "      <td>0</td>\n",
       "      <td>1</td>\n",
       "      <td>0</td>\n",
       "      <td>1</td>\n",
       "      <td>0</td>\n",
       "      <td>...</td>\n",
       "      <td>0</td>\n",
       "      <td>1</td>\n",
       "      <td>0</td>\n",
       "      <td>0</td>\n",
       "      <td>1</td>\n",
       "      <td>0</td>\n",
       "      <td>0</td>\n",
       "      <td>0</td>\n",
       "      <td>0</td>\n",
       "      <td>0</td>\n",
       "    </tr>\n",
       "  </tbody>\n",
       "</table>\n",
       "<p>5 rows × 22 columns</p>\n",
       "</div>"
      ],
      "text/plain": [
       "    Sr._No.  Code  Tenure        Status  Experience_Months  Gender_F  \\\n",
       "0  82963178     1     264      Attrited                  3         0   \n",
       "1  82963476     0     134  Not Attrited                 15         1   \n",
       "2  82963496     0     192  Not Attrited                  5         0   \n",
       "3  82963552     1      34      Attrited                 14         0   \n",
       "4  82963672     1     250      Attrited                 18         0   \n",
       "\n",
       "   Gender_M  Edu_Bucket_Non Science Graduates  Edu_Bucket_Others  \\\n",
       "0         1                                 1                  0   \n",
       "1         0                                 1                  0   \n",
       "2         1                                 0                  0   \n",
       "3         1                                 0                  1   \n",
       "4         1                                 0                  1   \n",
       "\n",
       "   Edu_Bucket_Science Graduates  ...  Versant_Bucket_40-50  \\\n",
       "0                             0  ...                     0   \n",
       "1                             0  ...                     0   \n",
       "2                             1  ...                     0   \n",
       "3                             0  ...                     0   \n",
       "4                             0  ...                     0   \n",
       "\n",
       "   Versant_Bucket_50-60  Versant_Bucket_60-70  Versant_Bucket_70-80  \\\n",
       "0                     1                     0                     0   \n",
       "1                     1                     0                     0   \n",
       "2                     0                     1                     0   \n",
       "3                     0                     1                     0   \n",
       "4                     1                     0                     0   \n",
       "\n",
       "   Language_Queue_English  Language_Queue_Hindi  Language_Queue_Kannada  \\\n",
       "0                       0                     0                       0   \n",
       "1                       0                     0                       0   \n",
       "2                       0                     0                       0   \n",
       "3                       0                     1                       0   \n",
       "4                       1                     0                       0   \n",
       "\n",
       "   Language_Queue_Malayalam  Language_Queue_Tamil  Language_Queue_Telegu  \n",
       "0                         0                     1                      0  \n",
       "1                         0                     0                      1  \n",
       "2                         1                     0                      0  \n",
       "3                         0                     0                      0  \n",
       "4                         0                     0                      0  \n",
       "\n",
       "[5 rows x 22 columns]"
      ]
     },
     "execution_count": 24,
     "metadata": {},
     "output_type": "execute_result"
    }
   ],
   "source": [
    "train.head()"
   ]
  },
  {
   "cell_type": "code",
   "execution_count": 25,
   "metadata": {},
   "outputs": [
    {
     "data": {
      "text/plain": [
       "Index(['Sr._No.', 'Code', 'Tenure', 'Status', 'Experience_Months', 'Gender_F',\n",
       "       'Gender_M', 'Edu_Bucket_Non Science Graduates', 'Edu_Bucket_Others',\n",
       "       'Edu_Bucket_Science Graduates', 'Outstation_Local_Local',\n",
       "       'Outstation_Local_Outstation', 'Versant_Bucket_40-50',\n",
       "       'Versant_Bucket_50-60', 'Versant_Bucket_60-70', 'Versant_Bucket_70-80',\n",
       "       'Language_Queue_English', 'Language_Queue_Hindi',\n",
       "       'Language_Queue_Kannada', 'Language_Queue_Malayalam',\n",
       "       'Language_Queue_Tamil', 'Language_Queue_Telegu'],\n",
       "      dtype='object')"
      ]
     },
     "execution_count": 25,
     "metadata": {},
     "output_type": "execute_result"
    }
   ],
   "source": [
    "train.columns"
   ]
  },
  {
   "cell_type": "code",
   "execution_count": 26,
   "metadata": {},
   "outputs": [],
   "source": [
    "X_train=train.drop(columns=['Code','Status'])"
   ]
  },
  {
   "cell_type": "code",
   "execution_count": 27,
   "metadata": {},
   "outputs": [
    {
     "data": {
      "text/html": [
       "<div>\n",
       "<style scoped>\n",
       "    .dataframe tbody tr th:only-of-type {\n",
       "        vertical-align: middle;\n",
       "    }\n",
       "\n",
       "    .dataframe tbody tr th {\n",
       "        vertical-align: top;\n",
       "    }\n",
       "\n",
       "    .dataframe thead th {\n",
       "        text-align: right;\n",
       "    }\n",
       "</style>\n",
       "<table border=\"1\" class=\"dataframe\">\n",
       "  <thead>\n",
       "    <tr style=\"text-align: right;\">\n",
       "      <th></th>\n",
       "      <th>Sr._No.</th>\n",
       "      <th>Tenure</th>\n",
       "      <th>Experience_Months</th>\n",
       "      <th>Gender_F</th>\n",
       "      <th>Gender_M</th>\n",
       "      <th>Edu_Bucket_Non Science Graduates</th>\n",
       "      <th>Edu_Bucket_Others</th>\n",
       "      <th>Edu_Bucket_Science Graduates</th>\n",
       "      <th>Outstation_Local_Local</th>\n",
       "      <th>Outstation_Local_Outstation</th>\n",
       "      <th>Versant_Bucket_40-50</th>\n",
       "      <th>Versant_Bucket_50-60</th>\n",
       "      <th>Versant_Bucket_60-70</th>\n",
       "      <th>Versant_Bucket_70-80</th>\n",
       "      <th>Language_Queue_English</th>\n",
       "      <th>Language_Queue_Hindi</th>\n",
       "      <th>Language_Queue_Kannada</th>\n",
       "      <th>Language_Queue_Malayalam</th>\n",
       "      <th>Language_Queue_Tamil</th>\n",
       "      <th>Language_Queue_Telegu</th>\n",
       "    </tr>\n",
       "  </thead>\n",
       "  <tbody>\n",
       "    <tr>\n",
       "      <th>0</th>\n",
       "      <td>82963178</td>\n",
       "      <td>264</td>\n",
       "      <td>3</td>\n",
       "      <td>0</td>\n",
       "      <td>1</td>\n",
       "      <td>1</td>\n",
       "      <td>0</td>\n",
       "      <td>0</td>\n",
       "      <td>0</td>\n",
       "      <td>1</td>\n",
       "      <td>0</td>\n",
       "      <td>1</td>\n",
       "      <td>0</td>\n",
       "      <td>0</td>\n",
       "      <td>0</td>\n",
       "      <td>0</td>\n",
       "      <td>0</td>\n",
       "      <td>0</td>\n",
       "      <td>1</td>\n",
       "      <td>0</td>\n",
       "    </tr>\n",
       "    <tr>\n",
       "      <th>1</th>\n",
       "      <td>82963476</td>\n",
       "      <td>134</td>\n",
       "      <td>15</td>\n",
       "      <td>1</td>\n",
       "      <td>0</td>\n",
       "      <td>1</td>\n",
       "      <td>0</td>\n",
       "      <td>0</td>\n",
       "      <td>0</td>\n",
       "      <td>1</td>\n",
       "      <td>0</td>\n",
       "      <td>1</td>\n",
       "      <td>0</td>\n",
       "      <td>0</td>\n",
       "      <td>0</td>\n",
       "      <td>0</td>\n",
       "      <td>0</td>\n",
       "      <td>0</td>\n",
       "      <td>0</td>\n",
       "      <td>1</td>\n",
       "    </tr>\n",
       "    <tr>\n",
       "      <th>2</th>\n",
       "      <td>82963496</td>\n",
       "      <td>192</td>\n",
       "      <td>5</td>\n",
       "      <td>0</td>\n",
       "      <td>1</td>\n",
       "      <td>0</td>\n",
       "      <td>0</td>\n",
       "      <td>1</td>\n",
       "      <td>1</td>\n",
       "      <td>0</td>\n",
       "      <td>0</td>\n",
       "      <td>0</td>\n",
       "      <td>1</td>\n",
       "      <td>0</td>\n",
       "      <td>0</td>\n",
       "      <td>0</td>\n",
       "      <td>0</td>\n",
       "      <td>1</td>\n",
       "      <td>0</td>\n",
       "      <td>0</td>\n",
       "    </tr>\n",
       "    <tr>\n",
       "      <th>3</th>\n",
       "      <td>82963552</td>\n",
       "      <td>34</td>\n",
       "      <td>14</td>\n",
       "      <td>0</td>\n",
       "      <td>1</td>\n",
       "      <td>0</td>\n",
       "      <td>1</td>\n",
       "      <td>0</td>\n",
       "      <td>1</td>\n",
       "      <td>0</td>\n",
       "      <td>0</td>\n",
       "      <td>0</td>\n",
       "      <td>1</td>\n",
       "      <td>0</td>\n",
       "      <td>0</td>\n",
       "      <td>1</td>\n",
       "      <td>0</td>\n",
       "      <td>0</td>\n",
       "      <td>0</td>\n",
       "      <td>0</td>\n",
       "    </tr>\n",
       "    <tr>\n",
       "      <th>4</th>\n",
       "      <td>82963672</td>\n",
       "      <td>250</td>\n",
       "      <td>18</td>\n",
       "      <td>0</td>\n",
       "      <td>1</td>\n",
       "      <td>0</td>\n",
       "      <td>1</td>\n",
       "      <td>0</td>\n",
       "      <td>1</td>\n",
       "      <td>0</td>\n",
       "      <td>0</td>\n",
       "      <td>1</td>\n",
       "      <td>0</td>\n",
       "      <td>0</td>\n",
       "      <td>1</td>\n",
       "      <td>0</td>\n",
       "      <td>0</td>\n",
       "      <td>0</td>\n",
       "      <td>0</td>\n",
       "      <td>0</td>\n",
       "    </tr>\n",
       "  </tbody>\n",
       "</table>\n",
       "</div>"
      ],
      "text/plain": [
       "    Sr._No.  Tenure  Experience_Months  Gender_F  Gender_M  \\\n",
       "0  82963178     264                  3         0         1   \n",
       "1  82963476     134                 15         1         0   \n",
       "2  82963496     192                  5         0         1   \n",
       "3  82963552      34                 14         0         1   \n",
       "4  82963672     250                 18         0         1   \n",
       "\n",
       "   Edu_Bucket_Non Science Graduates  Edu_Bucket_Others  \\\n",
       "0                                 1                  0   \n",
       "1                                 1                  0   \n",
       "2                                 0                  0   \n",
       "3                                 0                  1   \n",
       "4                                 0                  1   \n",
       "\n",
       "   Edu_Bucket_Science Graduates  Outstation_Local_Local  \\\n",
       "0                             0                       0   \n",
       "1                             0                       0   \n",
       "2                             1                       1   \n",
       "3                             0                       1   \n",
       "4                             0                       1   \n",
       "\n",
       "   Outstation_Local_Outstation  Versant_Bucket_40-50  Versant_Bucket_50-60  \\\n",
       "0                            1                     0                     1   \n",
       "1                            1                     0                     1   \n",
       "2                            0                     0                     0   \n",
       "3                            0                     0                     0   \n",
       "4                            0                     0                     1   \n",
       "\n",
       "   Versant_Bucket_60-70  Versant_Bucket_70-80  Language_Queue_English  \\\n",
       "0                     0                     0                       0   \n",
       "1                     0                     0                       0   \n",
       "2                     1                     0                       0   \n",
       "3                     1                     0                       0   \n",
       "4                     0                     0                       1   \n",
       "\n",
       "   Language_Queue_Hindi  Language_Queue_Kannada  Language_Queue_Malayalam  \\\n",
       "0                     0                       0                         0   \n",
       "1                     0                       0                         0   \n",
       "2                     0                       0                         1   \n",
       "3                     1                       0                         0   \n",
       "4                     0                       0                         0   \n",
       "\n",
       "   Language_Queue_Tamil  Language_Queue_Telegu  \n",
       "0                     1                      0  \n",
       "1                     0                      1  \n",
       "2                     0                      0  \n",
       "3                     0                      0  \n",
       "4                     0                      0  "
      ]
     },
     "execution_count": 27,
     "metadata": {},
     "output_type": "execute_result"
    }
   ],
   "source": [
    "X_train.head()"
   ]
  },
  {
   "cell_type": "code",
   "execution_count": 28,
   "metadata": {},
   "outputs": [
    {
     "data": {
      "text/plain": [
       "(100, 20)"
      ]
     },
     "execution_count": 28,
     "metadata": {},
     "output_type": "execute_result"
    }
   ],
   "source": [
    "X_train.shape"
   ]
  },
  {
   "cell_type": "code",
   "execution_count": 29,
   "metadata": {},
   "outputs": [],
   "source": [
    "y_train=train[\"Code\"].values"
   ]
  },
  {
   "cell_type": "code",
   "execution_count": 30,
   "metadata": {},
   "outputs": [
    {
     "data": {
      "text/plain": [
       "array([1, 0, 0, 1, 1, 0, 0, 0, 0, 0, 1, 0, 1, 0, 0, 0, 0, 1, 0, 0, 1, 1,\n",
       "       0, 0, 0, 0, 0, 1, 0, 0, 0, 0, 1, 1, 1, 0, 1, 1, 1, 0, 0, 0, 0, 0,\n",
       "       0, 1, 0, 0, 0, 0, 0, 0, 0, 0, 0, 0, 0, 1, 1, 0, 0, 0, 1, 1, 1, 0,\n",
       "       0, 0, 0, 0, 0, 0, 0, 0, 0, 1, 0, 1, 0, 0, 0, 0, 0, 0, 1, 1, 1, 1,\n",
       "       1, 1, 1, 1, 0, 1, 1, 1, 1, 1, 1, 1])"
      ]
     },
     "execution_count": 30,
     "metadata": {},
     "output_type": "execute_result"
    }
   ],
   "source": [
    "y_train"
   ]
  },
  {
   "cell_type": "markdown",
   "metadata": {},
   "source": [
    "# Prossing Test data set"
   ]
  },
  {
   "cell_type": "code",
   "execution_count": 31,
   "metadata": {},
   "outputs": [],
   "source": [
    "test=pd.read_csv(\"Validation Set.csv\")"
   ]
  },
  {
   "cell_type": "code",
   "execution_count": 32,
   "metadata": {},
   "outputs": [
    {
     "data": {
      "text/html": [
       "<div>\n",
       "<style scoped>\n",
       "    .dataframe tbody tr th:only-of-type {\n",
       "        vertical-align: middle;\n",
       "    }\n",
       "\n",
       "    .dataframe tbody tr th {\n",
       "        vertical-align: top;\n",
       "    }\n",
       "\n",
       "    .dataframe thead th {\n",
       "        text-align: right;\n",
       "    }\n",
       "</style>\n",
       "<table border=\"1\" class=\"dataframe\">\n",
       "  <thead>\n",
       "    <tr style=\"text-align: right;\">\n",
       "      <th></th>\n",
       "      <th>Sr. No.</th>\n",
       "      <th>Code</th>\n",
       "      <th>Tenure</th>\n",
       "      <th>Status</th>\n",
       "      <th>Gender</th>\n",
       "      <th>Edu Bucket</th>\n",
       "      <th>Outstation/Local</th>\n",
       "      <th>Versant Bucket</th>\n",
       "      <th>Language Queue</th>\n",
       "      <th>Experience (Months)</th>\n",
       "    </tr>\n",
       "  </thead>\n",
       "  <tbody>\n",
       "    <tr>\n",
       "      <th>0</th>\n",
       "      <td>85484450</td>\n",
       "      <td>NaN</td>\n",
       "      <td>115</td>\n",
       "      <td>-</td>\n",
       "      <td>M</td>\n",
       "      <td>Science Graduates</td>\n",
       "      <td>Local</td>\n",
       "      <td>60-70</td>\n",
       "      <td>Tamil</td>\n",
       "      <td>10</td>\n",
       "    </tr>\n",
       "    <tr>\n",
       "      <th>1</th>\n",
       "      <td>85484454</td>\n",
       "      <td>NaN</td>\n",
       "      <td>12</td>\n",
       "      <td>-</td>\n",
       "      <td>F</td>\n",
       "      <td>Non Science Graduates</td>\n",
       "      <td>Local</td>\n",
       "      <td>60-70</td>\n",
       "      <td>Kannada</td>\n",
       "      <td>18</td>\n",
       "    </tr>\n",
       "    <tr>\n",
       "      <th>2</th>\n",
       "      <td>85484456</td>\n",
       "      <td>NaN</td>\n",
       "      <td>30</td>\n",
       "      <td>-</td>\n",
       "      <td>F</td>\n",
       "      <td>Science Graduates</td>\n",
       "      <td>Local</td>\n",
       "      <td>50-60</td>\n",
       "      <td>Kannada</td>\n",
       "      <td>13</td>\n",
       "    </tr>\n",
       "    <tr>\n",
       "      <th>3</th>\n",
       "      <td>85484466</td>\n",
       "      <td>NaN</td>\n",
       "      <td>100</td>\n",
       "      <td>-</td>\n",
       "      <td>F</td>\n",
       "      <td>Science Graduates</td>\n",
       "      <td>Outstation</td>\n",
       "      <td>70-80</td>\n",
       "      <td>Tamil</td>\n",
       "      <td>20</td>\n",
       "    </tr>\n",
       "    <tr>\n",
       "      <th>4</th>\n",
       "      <td>85484476</td>\n",
       "      <td>NaN</td>\n",
       "      <td>15</td>\n",
       "      <td>-</td>\n",
       "      <td>M</td>\n",
       "      <td>Non Science Graduates</td>\n",
       "      <td>Local</td>\n",
       "      <td>40-50</td>\n",
       "      <td>Telegu</td>\n",
       "      <td>10</td>\n",
       "    </tr>\n",
       "  </tbody>\n",
       "</table>\n",
       "</div>"
      ],
      "text/plain": [
       "    Sr. No.  Code  Tenure Status Gender             Edu Bucket  \\\n",
       "0  85484450   NaN     115      -      M      Science Graduates   \n",
       "1  85484454   NaN      12      -      F  Non Science Graduates   \n",
       "2  85484456   NaN      30      -      F      Science Graduates   \n",
       "3  85484466   NaN     100      -      F      Science Graduates   \n",
       "4  85484476   NaN      15      -      M  Non Science Graduates   \n",
       "\n",
       "  Outstation/Local Versant Bucket Language Queue  Experience (Months)  \n",
       "0            Local          60-70          Tamil                   10  \n",
       "1            Local          60-70        Kannada                   18  \n",
       "2            Local          50-60        Kannada                   13  \n",
       "3       Outstation          70-80          Tamil                   20  \n",
       "4            Local          40-50         Telegu                   10  "
      ]
     },
     "execution_count": 32,
     "metadata": {},
     "output_type": "execute_result"
    }
   ],
   "source": [
    "test.head()"
   ]
  },
  {
   "cell_type": "code",
   "execution_count": 33,
   "metadata": {},
   "outputs": [
    {
     "data": {
      "text/plain": [
       "Index(['Sr. No.', 'Code', 'Tenure', 'Status', 'Gender', 'Edu Bucket',\n",
       "       'Outstation/Local', 'Versant Bucket', 'Language Queue',\n",
       "       'Experience (Months)'],\n",
       "      dtype='object')"
      ]
     },
     "execution_count": 33,
     "metadata": {},
     "output_type": "execute_result"
    }
   ],
   "source": [
    "# Columns in the Data\n",
    "test.columns"
   ]
  },
  {
   "cell_type": "markdown",
   "metadata": {},
   "source": [
    "- Some column name contain space and '/' in them, this may cause difficulties for data handling\n",
    "- Replacing spaces and '/' with '_'"
   ]
  },
  {
   "cell_type": "code",
   "execution_count": 34,
   "metadata": {},
   "outputs": [],
   "source": [
    "# Rename Columns\n",
    "test.columns=['Sr._No.', 'Code', 'Tenure', 'Status', 'Gender', 'Edu_Bucket',\n",
    "       'Outstation_Local', 'Versant_Bucket', 'Language_Queue',\n",
    "       'Experience_Months']"
   ]
  },
  {
   "cell_type": "code",
   "execution_count": 35,
   "metadata": {},
   "outputs": [
    {
     "data": {
      "text/html": [
       "<div>\n",
       "<style scoped>\n",
       "    .dataframe tbody tr th:only-of-type {\n",
       "        vertical-align: middle;\n",
       "    }\n",
       "\n",
       "    .dataframe tbody tr th {\n",
       "        vertical-align: top;\n",
       "    }\n",
       "\n",
       "    .dataframe thead th {\n",
       "        text-align: right;\n",
       "    }\n",
       "</style>\n",
       "<table border=\"1\" class=\"dataframe\">\n",
       "  <thead>\n",
       "    <tr style=\"text-align: right;\">\n",
       "      <th></th>\n",
       "      <th>Sr._No.</th>\n",
       "      <th>Code</th>\n",
       "      <th>Tenure</th>\n",
       "      <th>Status</th>\n",
       "      <th>Gender</th>\n",
       "      <th>Edu_Bucket</th>\n",
       "      <th>Outstation_Local</th>\n",
       "      <th>Versant_Bucket</th>\n",
       "      <th>Language_Queue</th>\n",
       "      <th>Experience_Months</th>\n",
       "    </tr>\n",
       "  </thead>\n",
       "  <tbody>\n",
       "    <tr>\n",
       "      <th>0</th>\n",
       "      <td>85484450</td>\n",
       "      <td>NaN</td>\n",
       "      <td>115</td>\n",
       "      <td>-</td>\n",
       "      <td>M</td>\n",
       "      <td>Science Graduates</td>\n",
       "      <td>Local</td>\n",
       "      <td>60-70</td>\n",
       "      <td>Tamil</td>\n",
       "      <td>10</td>\n",
       "    </tr>\n",
       "    <tr>\n",
       "      <th>1</th>\n",
       "      <td>85484454</td>\n",
       "      <td>NaN</td>\n",
       "      <td>12</td>\n",
       "      <td>-</td>\n",
       "      <td>F</td>\n",
       "      <td>Non Science Graduates</td>\n",
       "      <td>Local</td>\n",
       "      <td>60-70</td>\n",
       "      <td>Kannada</td>\n",
       "      <td>18</td>\n",
       "    </tr>\n",
       "    <tr>\n",
       "      <th>2</th>\n",
       "      <td>85484456</td>\n",
       "      <td>NaN</td>\n",
       "      <td>30</td>\n",
       "      <td>-</td>\n",
       "      <td>F</td>\n",
       "      <td>Science Graduates</td>\n",
       "      <td>Local</td>\n",
       "      <td>50-60</td>\n",
       "      <td>Kannada</td>\n",
       "      <td>13</td>\n",
       "    </tr>\n",
       "    <tr>\n",
       "      <th>3</th>\n",
       "      <td>85484466</td>\n",
       "      <td>NaN</td>\n",
       "      <td>100</td>\n",
       "      <td>-</td>\n",
       "      <td>F</td>\n",
       "      <td>Science Graduates</td>\n",
       "      <td>Outstation</td>\n",
       "      <td>70-80</td>\n",
       "      <td>Tamil</td>\n",
       "      <td>20</td>\n",
       "    </tr>\n",
       "    <tr>\n",
       "      <th>4</th>\n",
       "      <td>85484476</td>\n",
       "      <td>NaN</td>\n",
       "      <td>15</td>\n",
       "      <td>-</td>\n",
       "      <td>M</td>\n",
       "      <td>Non Science Graduates</td>\n",
       "      <td>Local</td>\n",
       "      <td>40-50</td>\n",
       "      <td>Telegu</td>\n",
       "      <td>10</td>\n",
       "    </tr>\n",
       "  </tbody>\n",
       "</table>\n",
       "</div>"
      ],
      "text/plain": [
       "    Sr._No.  Code  Tenure Status Gender             Edu_Bucket  \\\n",
       "0  85484450   NaN     115      -      M      Science Graduates   \n",
       "1  85484454   NaN      12      -      F  Non Science Graduates   \n",
       "2  85484456   NaN      30      -      F      Science Graduates   \n",
       "3  85484466   NaN     100      -      F      Science Graduates   \n",
       "4  85484476   NaN      15      -      M  Non Science Graduates   \n",
       "\n",
       "  Outstation_Local Versant_Bucket Language_Queue  Experience_Months  \n",
       "0            Local          60-70          Tamil                 10  \n",
       "1            Local          60-70        Kannada                 18  \n",
       "2            Local          50-60        Kannada                 13  \n",
       "3       Outstation          70-80          Tamil                 20  \n",
       "4            Local          40-50         Telegu                 10  "
      ]
     },
     "execution_count": 35,
     "metadata": {},
     "output_type": "execute_result"
    }
   ],
   "source": [
    "test.head()"
   ]
  },
  {
   "cell_type": "code",
   "execution_count": 36,
   "metadata": {},
   "outputs": [
    {
     "data": {
      "text/plain": [
       "(60, 10)"
      ]
     },
     "execution_count": 36,
     "metadata": {},
     "output_type": "execute_result"
    }
   ],
   "source": [
    "# Number of rows and column\n",
    "test.shape"
   ]
  },
  {
   "cell_type": "code",
   "execution_count": 37,
   "metadata": {},
   "outputs": [
    {
     "name": "stdout",
     "output_type": "stream",
     "text": [
      "<class 'pandas.core.frame.DataFrame'>\n",
      "RangeIndex: 60 entries, 0 to 59\n",
      "Data columns (total 10 columns):\n",
      " #   Column             Non-Null Count  Dtype  \n",
      "---  ------             --------------  -----  \n",
      " 0   Sr._No.            60 non-null     int64  \n",
      " 1   Code               0 non-null      float64\n",
      " 2   Tenure             60 non-null     int64  \n",
      " 3   Status             60 non-null     object \n",
      " 4   Gender             60 non-null     object \n",
      " 5   Edu_Bucket         60 non-null     object \n",
      " 6   Outstation_Local   60 non-null     object \n",
      " 7   Versant_Bucket     60 non-null     object \n",
      " 8   Language_Queue     60 non-null     object \n",
      " 9   Experience_Months  60 non-null     int64  \n",
      "dtypes: float64(1), int64(3), object(6)\n",
      "memory usage: 4.8+ KB\n"
     ]
    }
   ],
   "source": [
    "# Information \n",
    "test.info()"
   ]
  },
  {
   "cell_type": "code",
   "execution_count": 38,
   "metadata": {},
   "outputs": [
    {
     "data": {
      "text/plain": [
       "Sr._No.               0\n",
       "Code                 60\n",
       "Tenure                0\n",
       "Status                0\n",
       "Gender                0\n",
       "Edu_Bucket            0\n",
       "Outstation_Local      0\n",
       "Versant_Bucket        0\n",
       "Language_Queue        0\n",
       "Experience_Months     0\n",
       "dtype: int64"
      ]
     },
     "execution_count": 38,
     "metadata": {},
     "output_type": "execute_result"
    }
   ],
   "source": [
    "# Check for missing value\n",
    "test.isnull().sum()"
   ]
  },
  {
   "cell_type": "markdown",
   "metadata": {},
   "source": [
    "- This data set does not contain any null values"
   ]
  },
  {
   "cell_type": "code",
   "execution_count": 39,
   "metadata": {},
   "outputs": [
    {
     "data": {
      "text/html": [
       "<div>\n",
       "<style scoped>\n",
       "    .dataframe tbody tr th:only-of-type {\n",
       "        vertical-align: middle;\n",
       "    }\n",
       "\n",
       "    .dataframe tbody tr th {\n",
       "        vertical-align: top;\n",
       "    }\n",
       "\n",
       "    .dataframe thead th {\n",
       "        text-align: right;\n",
       "    }\n",
       "</style>\n",
       "<table border=\"1\" class=\"dataframe\">\n",
       "  <thead>\n",
       "    <tr style=\"text-align: right;\">\n",
       "      <th></th>\n",
       "      <th>Sr._No.</th>\n",
       "      <th>Code</th>\n",
       "      <th>Tenure</th>\n",
       "      <th>Experience_Months</th>\n",
       "    </tr>\n",
       "  </thead>\n",
       "  <tbody>\n",
       "    <tr>\n",
       "      <th>count</th>\n",
       "      <td>6.000000e+01</td>\n",
       "      <td>0.0</td>\n",
       "      <td>60.000000</td>\n",
       "      <td>60.000000</td>\n",
       "    </tr>\n",
       "    <tr>\n",
       "      <th>mean</th>\n",
       "      <td>8.548565e+07</td>\n",
       "      <td>NaN</td>\n",
       "      <td>60.716667</td>\n",
       "      <td>12.500000</td>\n",
       "    </tr>\n",
       "    <tr>\n",
       "      <th>std</th>\n",
       "      <td>8.502409e+02</td>\n",
       "      <td>NaN</td>\n",
       "      <td>37.906259</td>\n",
       "      <td>7.284765</td>\n",
       "    </tr>\n",
       "    <tr>\n",
       "      <th>min</th>\n",
       "      <td>8.548445e+07</td>\n",
       "      <td>NaN</td>\n",
       "      <td>1.000000</td>\n",
       "      <td>0.000000</td>\n",
       "    </tr>\n",
       "    <tr>\n",
       "      <th>25%</th>\n",
       "      <td>8.548489e+07</td>\n",
       "      <td>NaN</td>\n",
       "      <td>29.250000</td>\n",
       "      <td>6.000000</td>\n",
       "    </tr>\n",
       "    <tr>\n",
       "      <th>50%</th>\n",
       "      <td>8.548556e+07</td>\n",
       "      <td>NaN</td>\n",
       "      <td>55.000000</td>\n",
       "      <td>13.500000</td>\n",
       "    </tr>\n",
       "    <tr>\n",
       "      <th>75%</th>\n",
       "      <td>8.548649e+07</td>\n",
       "      <td>NaN</td>\n",
       "      <td>97.750000</td>\n",
       "      <td>18.000000</td>\n",
       "    </tr>\n",
       "    <tr>\n",
       "      <th>max</th>\n",
       "      <td>8.548705e+07</td>\n",
       "      <td>NaN</td>\n",
       "      <td>120.000000</td>\n",
       "      <td>24.000000</td>\n",
       "    </tr>\n",
       "  </tbody>\n",
       "</table>\n",
       "</div>"
      ],
      "text/plain": [
       "            Sr._No.  Code      Tenure  Experience_Months\n",
       "count  6.000000e+01   0.0   60.000000          60.000000\n",
       "mean   8.548565e+07   NaN   60.716667          12.500000\n",
       "std    8.502409e+02   NaN   37.906259           7.284765\n",
       "min    8.548445e+07   NaN    1.000000           0.000000\n",
       "25%    8.548489e+07   NaN   29.250000           6.000000\n",
       "50%    8.548556e+07   NaN   55.000000          13.500000\n",
       "75%    8.548649e+07   NaN   97.750000          18.000000\n",
       "max    8.548705e+07   NaN  120.000000          24.000000"
      ]
     },
     "execution_count": 39,
     "metadata": {},
     "output_type": "execute_result"
    }
   ],
   "source": [
    "test.describe()"
   ]
  },
  {
   "cell_type": "markdown",
   "metadata": {},
   "source": [
    "- For both Tenure and Experience_Months difference between mean and median are not so heigh \n",
    "- also minimum, amximum, Q1,Q2,Q3 valuees are well distributed\n",
    "- So, this two column may not contain any Outlier"
   ]
  },
  {
   "cell_type": "markdown",
   "metadata": {},
   "source": [
    "Outlire Detection"
   ]
  },
  {
   "cell_type": "code",
   "execution_count": 40,
   "metadata": {},
   "outputs": [
    {
     "data": {
      "image/png": "[encoded data removed]",
      "text/plain": [
       "<Figure size 360x216 with 2 Axes>"
      ]
     },
     "metadata": {
      "needs_background": "light"
     },
     "output_type": "display_data"
    }
   ],
   "source": [
    "%matplotlib inline\n",
    "plt.figure(figsize=[5,3])\n",
    "\n",
    "plt.subplot(1, 2, 1)\n",
    "plt.boxplot(test.Tenure,)\n",
    "plt.title('$Tenuer$')\n",
    "\n",
    "plt.subplot(1, 2, 2)\n",
    "plt.boxplot(test.Experience_Months)\n",
    "plt.title('$Experience$')\n",
    "\n",
    "plt.show()"
   ]
  },
  {
   "cell_type": "markdown",
   "metadata": {},
   "source": [
    "- So, for both the neumarical column Tenure and Experience_Months there is no outlire"
   ]
  },
  {
   "cell_type": "markdown",
   "metadata": {},
   "source": [
    "### Chacking classes for categorical data"
   ]
  },
  {
   "cell_type": "code",
   "execution_count": 41,
   "metadata": {},
   "outputs": [
    {
     "data": {
      "text/plain": [
       "-    60\n",
       "Name: Status, dtype: int64"
      ]
     },
     "execution_count": 41,
     "metadata": {},
     "output_type": "execute_result"
    }
   ],
   "source": [
    "test.Status.value_counts()"
   ]
  },
  {
   "cell_type": "markdown",
   "metadata": {},
   "source": [
    " "
   ]
  },
  {
   "cell_type": "markdown",
   "metadata": {},
   "source": [
    "#### *Replacing '-' with 'Not Attrited'*"
   ]
  },
  {
   "cell_type": "markdown",
   "metadata": {},
   "source": [
    " "
   ]
  },
  {
   "cell_type": "code",
   "execution_count": 42,
   "metadata": {},
   "outputs": [],
   "source": [
    "test.loc[(test['Status']=='-'),'Status']=0"
   ]
  },
  {
   "cell_type": "code",
   "execution_count": 43,
   "metadata": {},
   "outputs": [
    {
     "data": {
      "text/plain": [
       "0    60\n",
       "Name: Status, dtype: int64"
      ]
     },
     "execution_count": 43,
     "metadata": {},
     "output_type": "execute_result"
    }
   ],
   "source": [
    "test.Status.value_counts()"
   ]
  },
  {
   "cell_type": "code",
   "execution_count": 44,
   "metadata": {},
   "outputs": [
    {
     "data": {
      "text/plain": [
       "M    31\n",
       "F    29\n",
       "Name: Gender, dtype: int64"
      ]
     },
     "execution_count": 44,
     "metadata": {},
     "output_type": "execute_result"
    }
   ],
   "source": [
    "test.Gender.value_counts()"
   ]
  },
  {
   "cell_type": "code",
   "execution_count": 45,
   "metadata": {},
   "outputs": [
    {
     "data": {
      "text/plain": [
       "Science Graduates        29\n",
       "Non Science Graduates    25\n",
       "Others                    6\n",
       "Name: Edu_Bucket, dtype: int64"
      ]
     },
     "execution_count": 45,
     "metadata": {},
     "output_type": "execute_result"
    }
   ],
   "source": [
    "test.Edu_Bucket.value_counts()"
   ]
  },
  {
   "cell_type": "code",
   "execution_count": 46,
   "metadata": {},
   "outputs": [
    {
     "data": {
      "text/plain": [
       "Local         31\n",
       "Outstation    29\n",
       "Name: Outstation_Local, dtype: int64"
      ]
     },
     "execution_count": 46,
     "metadata": {},
     "output_type": "execute_result"
    }
   ],
   "source": [
    "test.Outstation_Local.value_counts()"
   ]
  },
  {
   "cell_type": "code",
   "execution_count": 47,
   "metadata": {},
   "outputs": [
    {
     "data": {
      "text/plain": [
       "50-60    23\n",
       "40-50    17\n",
       "70-80    10\n",
       "60-70    10\n",
       "Name: Versant_Bucket, dtype: int64"
      ]
     },
     "execution_count": 47,
     "metadata": {},
     "output_type": "execute_result"
    }
   ],
   "source": [
    "test.Versant_Bucket.value_counts()"
   ]
  },
  {
   "cell_type": "code",
   "execution_count": 48,
   "metadata": {},
   "outputs": [
    {
     "data": {
      "text/plain": [
       "Kannada      25\n",
       "Tamil        17\n",
       "Telegu        7\n",
       "Malayalam     6\n",
       "Hindi         3\n",
       "English       2\n",
       "Name: Language_Queue, dtype: int64"
      ]
     },
     "execution_count": 48,
     "metadata": {},
     "output_type": "execute_result"
    }
   ],
   "source": [
    "test.Language_Queue.value_counts()"
   ]
  },
  {
   "cell_type": "code",
   "execution_count": 49,
   "metadata": {},
   "outputs": [
    {
     "data": {
      "text/plain": [
       "(60, 10)"
      ]
     },
     "execution_count": 49,
     "metadata": {},
     "output_type": "execute_result"
    }
   ],
   "source": [
    "test.shape"
   ]
  },
  {
   "cell_type": "markdown",
   "metadata": {},
   "source": [
    "# Converting Categorical data into factors"
   ]
  },
  {
   "cell_type": "code",
   "execution_count": 50,
   "metadata": {},
   "outputs": [],
   "source": [
    "d1=test"
   ]
  },
  {
   "cell_type": "code",
   "execution_count": 51,
   "metadata": {},
   "outputs": [],
   "source": [
    "test1=pd.get_dummies(d1, columns=['Gender','Edu_Bucket','Outstation_Local','Versant_Bucket','Language_Queue'])"
   ]
  },
  {
   "cell_type": "code",
   "execution_count": 52,
   "metadata": {},
   "outputs": [
    {
     "data": {
      "text/plain": [
       "(60, 22)"
      ]
     },
     "execution_count": 52,
     "metadata": {},
     "output_type": "execute_result"
    }
   ],
   "source": [
    "test1.shape"
   ]
  },
  {
   "cell_type": "code",
   "execution_count": 53,
   "metadata": {},
   "outputs": [
    {
     "data": {
      "text/plain": [
       "Index(['Sr._No.', 'Code', 'Tenure', 'Status', 'Experience_Months', 'Gender_F',\n",
       "       'Gender_M', 'Edu_Bucket_Non Science Graduates', 'Edu_Bucket_Others',\n",
       "       'Edu_Bucket_Science Graduates', 'Outstation_Local_Local',\n",
       "       'Outstation_Local_Outstation', 'Versant_Bucket_40-50',\n",
       "       'Versant_Bucket_50-60', 'Versant_Bucket_60-70', 'Versant_Bucket_70-80',\n",
       "       'Language_Queue_English', 'Language_Queue_Hindi',\n",
       "       'Language_Queue_Kannada', 'Language_Queue_Malayalam',\n",
       "       'Language_Queue_Tamil', 'Language_Queue_Telegu'],\n",
       "      dtype='object')"
      ]
     },
     "execution_count": 53,
     "metadata": {},
     "output_type": "execute_result"
    }
   ],
   "source": [
    "test1.columns"
   ]
  },
  {
   "cell_type": "code",
   "execution_count": 54,
   "metadata": {},
   "outputs": [],
   "source": [
    "X_test=test1.drop(columns=['Code','Status'])"
   ]
  },
  {
   "cell_type": "code",
   "execution_count": 55,
   "metadata": {},
   "outputs": [
    {
     "data": {
      "text/html": [
       "<div>\n",
       "<style scoped>\n",
       "    .dataframe tbody tr th:only-of-type {\n",
       "        vertical-align: middle;\n",
       "    }\n",
       "\n",
       "    .dataframe tbody tr th {\n",
       "        vertical-align: top;\n",
       "    }\n",
       "\n",
       "    .dataframe thead th {\n",
       "        text-align: right;\n",
       "    }\n",
       "</style>\n",
       "<table border=\"1\" class=\"dataframe\">\n",
       "  <thead>\n",
       "    <tr style=\"text-align: right;\">\n",
       "      <th></th>\n",
       "      <th>Sr._No.</th>\n",
       "      <th>Tenure</th>\n",
       "      <th>Experience_Months</th>\n",
       "      <th>Gender_F</th>\n",
       "      <th>Gender_M</th>\n",
       "      <th>Edu_Bucket_Non Science Graduates</th>\n",
       "      <th>Edu_Bucket_Others</th>\n",
       "      <th>Edu_Bucket_Science Graduates</th>\n",
       "      <th>Outstation_Local_Local</th>\n",
       "      <th>Outstation_Local_Outstation</th>\n",
       "      <th>Versant_Bucket_40-50</th>\n",
       "      <th>Versant_Bucket_50-60</th>\n",
       "      <th>Versant_Bucket_60-70</th>\n",
       "      <th>Versant_Bucket_70-80</th>\n",
       "      <th>Language_Queue_English</th>\n",
       "      <th>Language_Queue_Hindi</th>\n",
       "      <th>Language_Queue_Kannada</th>\n",
       "      <th>Language_Queue_Malayalam</th>\n",
       "      <th>Language_Queue_Tamil</th>\n",
       "      <th>Language_Queue_Telegu</th>\n",
       "    </tr>\n",
       "  </thead>\n",
       "  <tbody>\n",
       "    <tr>\n",
       "      <th>0</th>\n",
       "      <td>85484450</td>\n",
       "      <td>115</td>\n",
       "      <td>10</td>\n",
       "      <td>0</td>\n",
       "      <td>1</td>\n",
       "      <td>0</td>\n",
       "      <td>0</td>\n",
       "      <td>1</td>\n",
       "      <td>1</td>\n",
       "      <td>0</td>\n",
       "      <td>0</td>\n",
       "      <td>0</td>\n",
       "      <td>1</td>\n",
       "      <td>0</td>\n",
       "      <td>0</td>\n",
       "      <td>0</td>\n",
       "      <td>0</td>\n",
       "      <td>0</td>\n",
       "      <td>1</td>\n",
       "      <td>0</td>\n",
       "    </tr>\n",
       "    <tr>\n",
       "      <th>1</th>\n",
       "      <td>85484454</td>\n",
       "      <td>12</td>\n",
       "      <td>18</td>\n",
       "      <td>1</td>\n",
       "      <td>0</td>\n",
       "      <td>1</td>\n",
       "      <td>0</td>\n",
       "      <td>0</td>\n",
       "      <td>1</td>\n",
       "      <td>0</td>\n",
       "      <td>0</td>\n",
       "      <td>0</td>\n",
       "      <td>1</td>\n",
       "      <td>0</td>\n",
       "      <td>0</td>\n",
       "      <td>0</td>\n",
       "      <td>1</td>\n",
       "      <td>0</td>\n",
       "      <td>0</td>\n",
       "      <td>0</td>\n",
       "    </tr>\n",
       "    <tr>\n",
       "      <th>2</th>\n",
       "      <td>85484456</td>\n",
       "      <td>30</td>\n",
       "      <td>13</td>\n",
       "      <td>1</td>\n",
       "      <td>0</td>\n",
       "      <td>0</td>\n",
       "      <td>0</td>\n",
       "      <td>1</td>\n",
       "      <td>1</td>\n",
       "      <td>0</td>\n",
       "      <td>0</td>\n",
       "      <td>1</td>\n",
       "      <td>0</td>\n",
       "      <td>0</td>\n",
       "      <td>0</td>\n",
       "      <td>0</td>\n",
       "      <td>1</td>\n",
       "      <td>0</td>\n",
       "      <td>0</td>\n",
       "      <td>0</td>\n",
       "    </tr>\n",
       "    <tr>\n",
       "      <th>3</th>\n",
       "      <td>85484466</td>\n",
       "      <td>100</td>\n",
       "      <td>20</td>\n",
       "      <td>1</td>\n",
       "      <td>0</td>\n",
       "      <td>0</td>\n",
       "      <td>0</td>\n",
       "      <td>1</td>\n",
       "      <td>0</td>\n",
       "      <td>1</td>\n",
       "      <td>0</td>\n",
       "      <td>0</td>\n",
       "      <td>0</td>\n",
       "      <td>1</td>\n",
       "      <td>0</td>\n",
       "      <td>0</td>\n",
       "      <td>0</td>\n",
       "      <td>0</td>\n",
       "      <td>1</td>\n",
       "      <td>0</td>\n",
       "    </tr>\n",
       "    <tr>\n",
       "      <th>4</th>\n",
       "      <td>85484476</td>\n",
       "      <td>15</td>\n",
       "      <td>10</td>\n",
       "      <td>0</td>\n",
       "      <td>1</td>\n",
       "      <td>1</td>\n",
       "      <td>0</td>\n",
       "      <td>0</td>\n",
       "      <td>1</td>\n",
       "      <td>0</td>\n",
       "      <td>1</td>\n",
       "      <td>0</td>\n",
       "      <td>0</td>\n",
       "      <td>0</td>\n",
       "      <td>0</td>\n",
       "      <td>0</td>\n",
       "      <td>0</td>\n",
       "      <td>0</td>\n",
       "      <td>0</td>\n",
       "      <td>1</td>\n",
       "    </tr>\n",
       "  </tbody>\n",
       "</table>\n",
       "</div>"
      ],
      "text/plain": [
       "    Sr._No.  Tenure  Experience_Months  Gender_F  Gender_M  \\\n",
       "0  85484450     115                 10         0         1   \n",
       "1  85484454      12                 18         1         0   \n",
       "2  85484456      30                 13         1         0   \n",
       "3  85484466     100                 20         1         0   \n",
       "4  85484476      15                 10         0         1   \n",
       "\n",
       "   Edu_Bucket_Non Science Graduates  Edu_Bucket_Others  \\\n",
       "0                                 0                  0   \n",
       "1                                 1                  0   \n",
       "2                                 0                  0   \n",
       "3                                 0                  0   \n",
       "4                                 1                  0   \n",
       "\n",
       "   Edu_Bucket_Science Graduates  Outstation_Local_Local  \\\n",
       "0                             1                       1   \n",
       "1                             0                       1   \n",
       "2                             1                       1   \n",
       "3                             1                       0   \n",
       "4                             0                       1   \n",
       "\n",
       "   Outstation_Local_Outstation  Versant_Bucket_40-50  Versant_Bucket_50-60  \\\n",
       "0                            0                     0                     0   \n",
       "1                            0                     0                     0   \n",
       "2                            0                     0                     1   \n",
       "3                            1                     0                     0   \n",
       "4                            0                     1                     0   \n",
       "\n",
       "   Versant_Bucket_60-70  Versant_Bucket_70-80  Language_Queue_English  \\\n",
       "0                     1                     0                       0   \n",
       "1                     1                     0                       0   \n",
       "2                     0                     0                       0   \n",
       "3                     0                     1                       0   \n",
       "4                     0                     0                       0   \n",
       "\n",
       "   Language_Queue_Hindi  Language_Queue_Kannada  Language_Queue_Malayalam  \\\n",
       "0                     0                       0                         0   \n",
       "1                     0                       1                         0   \n",
       "2                     0                       1                         0   \n",
       "3                     0                       0                         0   \n",
       "4                     0                       0                         0   \n",
       "\n",
       "   Language_Queue_Tamil  Language_Queue_Telegu  \n",
       "0                     1                      0  \n",
       "1                     0                      0  \n",
       "2                     0                      0  \n",
       "3                     1                      0  \n",
       "4                     0                      1  "
      ]
     },
     "execution_count": 55,
     "metadata": {},
     "output_type": "execute_result"
    }
   ],
   "source": [
    "X_test.head()"
   ]
  },
  {
   "cell_type": "code",
   "execution_count": 56,
   "metadata": {},
   "outputs": [
    {
     "data": {
      "text/plain": [
       "(60, 20)"
      ]
     },
     "execution_count": 56,
     "metadata": {},
     "output_type": "execute_result"
    }
   ],
   "source": [
    "X_test.shape"
   ]
  },
  {
   "cell_type": "code",
   "execution_count": 57,
   "metadata": {},
   "outputs": [
    {
     "data": {
      "text/plain": [
       "Index(['Sr._No.', 'Code', 'Tenure', 'Status', 'Experience_Months', 'Gender_F',\n",
       "       'Gender_M', 'Edu_Bucket_Non Science Graduates', 'Edu_Bucket_Others',\n",
       "       'Edu_Bucket_Science Graduates', 'Outstation_Local_Local',\n",
       "       'Outstation_Local_Outstation', 'Versant_Bucket_40-50',\n",
       "       'Versant_Bucket_50-60', 'Versant_Bucket_60-70', 'Versant_Bucket_70-80',\n",
       "       'Language_Queue_English', 'Language_Queue_Hindi',\n",
       "       'Language_Queue_Kannada', 'Language_Queue_Malayalam',\n",
       "       'Language_Queue_Tamil', 'Language_Queue_Telegu'],\n",
       "      dtype='object')"
      ]
     },
     "execution_count": 57,
     "metadata": {},
     "output_type": "execute_result"
    }
   ],
   "source": [
    "test1.columns"
   ]
  },
  {
   "cell_type": "code",
   "execution_count": 58,
   "metadata": {},
   "outputs": [],
   "source": [
    "y_test=test1['Status'].values"
   ]
  },
  {
   "cell_type": "code",
   "execution_count": 59,
   "metadata": {},
   "outputs": [
    {
     "data": {
      "text/plain": [
       "array([0, 0, 0, 0, 0, 0, 0, 0, 0, 0, 0, 0, 0, 0, 0, 0, 0, 0, 0, 0, 0, 0,\n",
       "       0, 0, 0, 0, 0, 0, 0, 0, 0, 0, 0, 0, 0, 0, 0, 0, 0, 0, 0, 0, 0, 0,\n",
       "       0, 0, 0, 0, 0, 0, 0, 0, 0, 0, 0, 0, 0, 0, 0, 0], dtype=object)"
      ]
     },
     "execution_count": 59,
     "metadata": {},
     "output_type": "execute_result"
    }
   ],
   "source": [
    "y_test"
   ]
  },
  {
   "cell_type": "markdown",
   "metadata": {},
   "source": [
    "# Modeling: Classification"
   ]
  },
  {
   "cell_type": "markdown",
   "metadata": {},
   "source": [
    "## Logistic Regression"
   ]
  },
  {
   "cell_type": "code",
   "execution_count": 60,
   "metadata": {},
   "outputs": [],
   "source": [
    "# Importing Libraries\n",
    "from sklearn.linear_model import LogisticRegression\n",
    "from sklearn.model_selection import train_test_split"
   ]
  },
  {
   "cell_type": "code",
   "execution_count": 61,
   "metadata": {},
   "outputs": [],
   "source": [
    "lr=LogisticRegression()"
   ]
  },
  {
   "cell_type": "code",
   "execution_count": 62,
   "metadata": {},
   "outputs": [],
   "source": [
    "model=lr.fit(X_train,y_train)"
   ]
  },
  {
   "cell_type": "code",
   "execution_count": 63,
   "metadata": {},
   "outputs": [],
   "source": [
    "y_pred=lr.predict(X_test)"
   ]
  },
  {
   "cell_type": "code",
   "execution_count": 64,
   "metadata": {},
   "outputs": [
    {
     "data": {
      "text/plain": [
       "array([0, 0, 0, 0, 0, 0, 0, 0, 0, 0, 0, 0, 0, 0, 0, 0, 0, 0, 0, 0, 0, 0,\n",
       "       0, 0, 0, 0, 0, 0, 0, 0, 0, 0, 0, 0, 0, 0, 0, 0, 0, 0, 0, 0, 0, 0,\n",
       "       0, 0, 0, 0, 0, 0, 0, 0, 0, 0, 0, 0, 0, 0, 0, 0])"
      ]
     },
     "execution_count": 64,
     "metadata": {},
     "output_type": "execute_result"
    }
   ],
   "source": [
    "y_pred"
   ]
  },
  {
   "cell_type": "code",
   "execution_count": 65,
   "metadata": {},
   "outputs": [
    {
     "data": {
      "text/plain": [
       "array([[0.62347745, 0.37652255],\n",
       "       [0.62347745, 0.37652255],\n",
       "       [0.62347746, 0.37652254],\n",
       "       [0.62347747, 0.37652253],\n",
       "       [0.62347748, 0.37652252],\n",
       "       [0.6234775 , 0.3765225 ],\n",
       "       [0.62347753, 0.37652247],\n",
       "       [0.62347755, 0.37652245],\n",
       "       [0.62347761, 0.37652239],\n",
       "       [0.62347763, 0.37652237],\n",
       "       [0.62347765, 0.37652235],\n",
       "       [0.62347766, 0.37652234],\n",
       "       [0.62347783, 0.37652217],\n",
       "       [0.62347803, 0.37652197],\n",
       "       [0.62347803, 0.37652197],\n",
       "       [0.62347806, 0.37652194],\n",
       "       [0.62347809, 0.37652191],\n",
       "       [0.62347812, 0.37652188],\n",
       "       [0.62347819, 0.37652181],\n",
       "       [0.62347824, 0.37652176],\n",
       "       [0.62347845, 0.37652155],\n",
       "       [0.62347855, 0.37652145],\n",
       "       [0.62347874, 0.37652126],\n",
       "       [0.62347883, 0.37652117],\n",
       "       [0.62347887, 0.37652113],\n",
       "       [0.62347887, 0.37652113],\n",
       "       [0.62347887, 0.37652113],\n",
       "       [0.62347892, 0.37652108],\n",
       "       [0.62347895, 0.37652105],\n",
       "       [0.62347896, 0.37652104],\n",
       "       [0.623479  , 0.376521  ],\n",
       "       [0.62347904, 0.37652096],\n",
       "       [0.62347912, 0.37652088],\n",
       "       [0.62347926, 0.37652074],\n",
       "       [0.62347927, 0.37652073],\n",
       "       [0.62347937, 0.37652063],\n",
       "       [0.62347944, 0.37652056],\n",
       "       [0.62347967, 0.37652033],\n",
       "       [0.62347969, 0.37652031],\n",
       "       [0.62347979, 0.37652021],\n",
       "       [0.62347986, 0.37652014],\n",
       "       [0.62347992, 0.37652008],\n",
       "       [0.62348005, 0.37651995],\n",
       "       [0.62348007, 0.37651993],\n",
       "       [0.62348026, 0.37651974],\n",
       "       [0.62348034, 0.37651966],\n",
       "       [0.62348037, 0.37651963],\n",
       "       [0.62348039, 0.37651961],\n",
       "       [0.62348039, 0.37651961],\n",
       "       [0.62348044, 0.37651956],\n",
       "       [0.62348053, 0.37651947],\n",
       "       [0.62348055, 0.37651945],\n",
       "       [0.62348066, 0.37651934],\n",
       "       [0.62348068, 0.37651932],\n",
       "       [0.62348069, 0.37651931],\n",
       "       [0.6234807 , 0.3765193 ],\n",
       "       [0.62348096, 0.37651904],\n",
       "       [0.62348097, 0.37651903],\n",
       "       [0.62348102, 0.37651898],\n",
       "       [0.62348105, 0.37651895]])"
      ]
     },
     "execution_count": 65,
     "metadata": {},
     "output_type": "execute_result"
    }
   ],
   "source": [
    "lr.predict_proba(X_test)"
   ]
  },
  {
   "cell_type": "code",
   "execution_count": 66,
   "metadata": {},
   "outputs": [],
   "source": [
    "predicted=pd.DataFrame()\n",
    "predicted[\"Actual\"]=y_test\n",
    "predicted['Predicted']=y_pred"
   ]
  },
  {
   "cell_type": "code",
   "execution_count": 67,
   "metadata": {},
   "outputs": [
    {
     "data": {
      "text/html": [
       "<div>\n",
       "<style scoped>\n",
       "    .dataframe tbody tr th:only-of-type {\n",
       "        vertical-align: middle;\n",
       "    }\n",
       "\n",
       "    .dataframe tbody tr th {\n",
       "        vertical-align: top;\n",
       "    }\n",
       "\n",
       "    .dataframe thead th {\n",
       "        text-align: right;\n",
       "    }\n",
       "</style>\n",
       "<table border=\"1\" class=\"dataframe\">\n",
       "  <thead>\n",
       "    <tr style=\"text-align: right;\">\n",
       "      <th></th>\n",
       "      <th>Actual</th>\n",
       "      <th>Predicted</th>\n",
       "    </tr>\n",
       "  </thead>\n",
       "  <tbody>\n",
       "    <tr>\n",
       "      <th>0</th>\n",
       "      <td>0</td>\n",
       "      <td>0</td>\n",
       "    </tr>\n",
       "    <tr>\n",
       "      <th>1</th>\n",
       "      <td>0</td>\n",
       "      <td>0</td>\n",
       "    </tr>\n",
       "  </tbody>\n",
       "</table>\n",
       "</div>"
      ],
      "text/plain": [
       "  Actual  Predicted\n",
       "0      0          0\n",
       "1      0          0"
      ]
     },
     "execution_count": 67,
     "metadata": {},
     "output_type": "execute_result"
    }
   ],
   "source": [
    "predicted.head(2)"
   ]
  },
  {
   "cell_type": "markdown",
   "metadata": {},
   "source": [
    "# confusion matrix"
   ]
  },
  {
   "cell_type": "code",
   "execution_count": 68,
   "metadata": {},
   "outputs": [
    {
     "data": {
      "text/plain": [
       "array([0, 0, 0, 0, 0, 0, 0, 0, 0, 0, 0, 0, 0, 0, 0, 0, 0, 0, 0, 0, 0, 0,\n",
       "       0, 0, 0, 0, 0, 0, 0, 0, 0, 0, 0, 0, 0, 0, 0, 0, 0, 0, 0, 0, 0, 0,\n",
       "       0, 0, 0, 0, 0, 0, 0, 0, 0, 0, 0, 0, 0, 0, 0, 0], dtype=object)"
      ]
     },
     "execution_count": 68,
     "metadata": {},
     "output_type": "execute_result"
    }
   ],
   "source": [
    "y_test"
   ]
  },
  {
   "cell_type": "code",
   "execution_count": 69,
   "metadata": {},
   "outputs": [],
   "source": [
    "v=y_test.astype(np.int)"
   ]
  },
  {
   "cell_type": "code",
   "execution_count": null,
   "metadata": {},
   "outputs": [],
   "source": []
  },
  {
   "cell_type": "code",
   "execution_count": null,
   "metadata": {},
   "outputs": [],
   "source": []
  },
  {
   "cell_type": "code",
   "execution_count": 70,
   "metadata": {},
   "outputs": [
    {
     "data": {
      "text/plain": [
       "array([0, 0, 0, 0, 0, 0, 0, 0, 0, 0, 0, 0, 0, 0, 0, 0, 0, 0, 0, 0, 0, 0,\n",
       "       0, 0, 0, 0, 0, 0, 0, 0, 0, 0, 0, 0, 0, 0, 0, 0, 0, 0, 0, 0, 0, 0,\n",
       "       0, 0, 0, 0, 0, 0, 0, 0, 0, 0, 0, 0, 0, 0, 0, 0])"
      ]
     },
     "execution_count": 70,
     "metadata": {},
     "output_type": "execute_result"
    }
   ],
   "source": [
    "y_pred"
   ]
  },
  {
   "cell_type": "code",
   "execution_count": 71,
   "metadata": {},
   "outputs": [],
   "source": [
    "from sklearn.metrics import confusion_matrix"
   ]
  },
  {
   "cell_type": "code",
   "execution_count": 72,
   "metadata": {},
   "outputs": [],
   "source": [
    "cm=confusion_matrix(v,y_pred)"
   ]
  },
  {
   "cell_type": "code",
   "execution_count": 73,
   "metadata": {},
   "outputs": [
    {
     "data": {
      "text/html": [
       "<div>\n",
       "<style scoped>\n",
       "    .dataframe tbody tr th:only-of-type {\n",
       "        vertical-align: middle;\n",
       "    }\n",
       "\n",
       "    .dataframe tbody tr th {\n",
       "        vertical-align: top;\n",
       "    }\n",
       "\n",
       "    .dataframe thead th {\n",
       "        text-align: right;\n",
       "    }\n",
       "</style>\n",
       "<table border=\"1\" class=\"dataframe\">\n",
       "  <thead>\n",
       "    <tr style=\"text-align: right;\">\n",
       "      <th></th>\n",
       "      <th>0</th>\n",
       "    </tr>\n",
       "  </thead>\n",
       "  <tbody>\n",
       "    <tr>\n",
       "      <th>0</th>\n",
       "      <td>60</td>\n",
       "    </tr>\n",
       "  </tbody>\n",
       "</table>\n",
       "</div>"
      ],
      "text/plain": [
       "    0\n",
       "0  60"
      ]
     },
     "execution_count": 73,
     "metadata": {},
     "output_type": "execute_result"
    }
   ],
   "source": [
    "cmdf = pd.DataFrame(cm)\n",
    "\n",
    "cmdf"
   ]
  },
  {
   "cell_type": "code",
   "execution_count": null,
   "metadata": {},
   "outputs": [],
   "source": []
  },
  {
   "cell_type": "markdown",
   "metadata": {},
   "source": [
    "# Decisiontree Classifire"
   ]
  },
  {
   "cell_type": "code",
   "execution_count": 74,
   "metadata": {},
   "outputs": [],
   "source": [
    "from sklearn.tree import DecisionTreeClassifier"
   ]
  },
  {
   "cell_type": "code",
   "execution_count": 75,
   "metadata": {},
   "outputs": [],
   "source": [
    "d_tree=DecisionTreeClassifier(random_state = 100)\n",
    "model1=d_tree.fit(X_train, y_train)"
   ]
  },
  {
   "cell_type": "code",
   "execution_count": 76,
   "metadata": {},
   "outputs": [
    {
     "data": {
      "text/plain": [
       "sklearn.tree._classes.DecisionTreeClassifier"
      ]
     },
     "execution_count": 76,
     "metadata": {},
     "output_type": "execute_result"
    }
   ],
   "source": [
    "type(model1)"
   ]
  },
  {
   "cell_type": "code",
   "execution_count": 77,
   "metadata": {},
   "outputs": [
    {
     "data": {
      "text/html": [
       "<div>\n",
       "<style scoped>\n",
       "    .dataframe tbody tr th:only-of-type {\n",
       "        vertical-align: middle;\n",
       "    }\n",
       "\n",
       "    .dataframe tbody tr th {\n",
       "        vertical-align: top;\n",
       "    }\n",
       "\n",
       "    .dataframe thead th {\n",
       "        text-align: right;\n",
       "    }\n",
       "</style>\n",
       "<table border=\"1\" class=\"dataframe\">\n",
       "  <thead>\n",
       "    <tr style=\"text-align: right;\">\n",
       "      <th></th>\n",
       "      <th>Sr._No.</th>\n",
       "      <th>Tenure</th>\n",
       "      <th>Experience_Months</th>\n",
       "      <th>Gender_F</th>\n",
       "      <th>Gender_M</th>\n",
       "      <th>Edu_Bucket_Non Science Graduates</th>\n",
       "      <th>Edu_Bucket_Others</th>\n",
       "      <th>Edu_Bucket_Science Graduates</th>\n",
       "      <th>Outstation_Local_Local</th>\n",
       "      <th>Outstation_Local_Outstation</th>\n",
       "      <th>Versant_Bucket_40-50</th>\n",
       "      <th>Versant_Bucket_50-60</th>\n",
       "      <th>Versant_Bucket_60-70</th>\n",
       "      <th>Versant_Bucket_70-80</th>\n",
       "      <th>Language_Queue_English</th>\n",
       "      <th>Language_Queue_Hindi</th>\n",
       "      <th>Language_Queue_Kannada</th>\n",
       "      <th>Language_Queue_Malayalam</th>\n",
       "      <th>Language_Queue_Tamil</th>\n",
       "      <th>Language_Queue_Telegu</th>\n",
       "    </tr>\n",
       "  </thead>\n",
       "  <tbody>\n",
       "    <tr>\n",
       "      <th>0</th>\n",
       "      <td>85484450</td>\n",
       "      <td>115</td>\n",
       "      <td>10</td>\n",
       "      <td>0</td>\n",
       "      <td>1</td>\n",
       "      <td>0</td>\n",
       "      <td>0</td>\n",
       "      <td>1</td>\n",
       "      <td>1</td>\n",
       "      <td>0</td>\n",
       "      <td>0</td>\n",
       "      <td>0</td>\n",
       "      <td>1</td>\n",
       "      <td>0</td>\n",
       "      <td>0</td>\n",
       "      <td>0</td>\n",
       "      <td>0</td>\n",
       "      <td>0</td>\n",
       "      <td>1</td>\n",
       "      <td>0</td>\n",
       "    </tr>\n",
       "    <tr>\n",
       "      <th>1</th>\n",
       "      <td>85484454</td>\n",
       "      <td>12</td>\n",
       "      <td>18</td>\n",
       "      <td>1</td>\n",
       "      <td>0</td>\n",
       "      <td>1</td>\n",
       "      <td>0</td>\n",
       "      <td>0</td>\n",
       "      <td>1</td>\n",
       "      <td>0</td>\n",
       "      <td>0</td>\n",
       "      <td>0</td>\n",
       "      <td>1</td>\n",
       "      <td>0</td>\n",
       "      <td>0</td>\n",
       "      <td>0</td>\n",
       "      <td>1</td>\n",
       "      <td>0</td>\n",
       "      <td>0</td>\n",
       "      <td>0</td>\n",
       "    </tr>\n",
       "  </tbody>\n",
       "</table>\n",
       "</div>"
      ],
      "text/plain": [
       "    Sr._No.  Tenure  Experience_Months  Gender_F  Gender_M  \\\n",
       "0  85484450     115                 10         0         1   \n",
       "1  85484454      12                 18         1         0   \n",
       "\n",
       "   Edu_Bucket_Non Science Graduates  Edu_Bucket_Others  \\\n",
       "0                                 0                  0   \n",
       "1                                 1                  0   \n",
       "\n",
       "   Edu_Bucket_Science Graduates  Outstation_Local_Local  \\\n",
       "0                             1                       1   \n",
       "1                             0                       1   \n",
       "\n",
       "   Outstation_Local_Outstation  Versant_Bucket_40-50  Versant_Bucket_50-60  \\\n",
       "0                            0                     0                     0   \n",
       "1                            0                     0                     0   \n",
       "\n",
       "   Versant_Bucket_60-70  Versant_Bucket_70-80  Language_Queue_English  \\\n",
       "0                     1                     0                       0   \n",
       "1                     1                     0                       0   \n",
       "\n",
       "   Language_Queue_Hindi  Language_Queue_Kannada  Language_Queue_Malayalam  \\\n",
       "0                     0                       0                         0   \n",
       "1                     0                       1                         0   \n",
       "\n",
       "   Language_Queue_Tamil  Language_Queue_Telegu  \n",
       "0                     1                      0  \n",
       "1                     0                      0  "
      ]
     },
     "execution_count": 77,
     "metadata": {},
     "output_type": "execute_result"
    }
   ],
   "source": [
    "X_test.head(2)"
   ]
  },
  {
   "cell_type": "code",
   "execution_count": 78,
   "metadata": {},
   "outputs": [],
   "source": [
    "pred=d_tree.predict(X_test)"
   ]
  },
  {
   "cell_type": "code",
   "execution_count": 79,
   "metadata": {},
   "outputs": [
    {
     "data": {
      "text/plain": [
       "array([1, 1, 1, 1, 1, 1, 1, 1, 1, 1, 1, 1, 1, 1, 1, 1, 1, 1, 1, 1, 1, 1,\n",
       "       1, 1, 1, 1, 1, 1, 1, 1, 1, 1, 1, 1, 1, 1, 1, 1, 1, 1, 1, 1, 1, 1,\n",
       "       1, 1, 1, 1, 1, 1, 1, 1, 1, 1, 1, 1, 1, 1, 1, 1])"
      ]
     },
     "execution_count": 79,
     "metadata": {},
     "output_type": "execute_result"
    }
   ],
   "source": [
    "pred"
   ]
  },
  {
   "cell_type": "code",
   "execution_count": null,
   "metadata": {},
   "outputs": [],
   "source": []
  },
  {
   "cell_type": "markdown",
   "metadata": {},
   "source": [
    "# Naive Bayes Classification"
   ]
  },
  {
   "cell_type": "code",
   "execution_count": 80,
   "metadata": {},
   "outputs": [],
   "source": [
    "from sklearn.naive_bayes import GaussianNB"
   ]
  },
  {
   "cell_type": "code",
   "execution_count": 81,
   "metadata": {},
   "outputs": [],
   "source": [
    "nb=GaussianNB()"
   ]
  },
  {
   "cell_type": "code",
   "execution_count": 82,
   "metadata": {},
   "outputs": [
    {
     "data": {
      "text/plain": [
       "GaussianNB(priors=None, var_smoothing=1e-09)"
      ]
     },
     "execution_count": 82,
     "metadata": {},
     "output_type": "execute_result"
    }
   ],
   "source": [
    "nb.fit(X_train, y_train)"
   ]
  },
  {
   "cell_type": "code",
   "execution_count": 83,
   "metadata": {},
   "outputs": [],
   "source": [
    "y_pred=nb.predict(X_test)"
   ]
  },
  {
   "cell_type": "code",
   "execution_count": 84,
   "metadata": {},
   "outputs": [
    {
     "data": {
      "text/plain": [
       "array([1, 1, 1, 1, 1, 1, 1, 1, 1, 1, 1, 1, 1, 1, 1, 1, 1, 1, 1, 1, 1, 1,\n",
       "       1, 1, 1, 1, 1, 1, 1, 1, 1, 1, 1, 1, 1, 1, 1, 1, 1, 1, 1, 1, 1, 1,\n",
       "       1, 1, 1, 1, 1, 1, 1, 1, 1, 1, 1, 1, 1, 1, 1, 1])"
      ]
     },
     "execution_count": 84,
     "metadata": {},
     "output_type": "execute_result"
    }
   ],
   "source": [
    "y_pred"
   ]
  },
  {
   "cell_type": "code",
   "execution_count": null,
   "metadata": {},
   "outputs": [],
   "source": []
  }
 ],
 "metadata": {
  "kernelspec": {
   "display_name": "Python 3",
   "language": "python",
   "name": "python3"
  },
  "language_info": {
   "codemirror_mode": {
    "name": "ipython",
    "version": 3
   },
   "file_extension": ".py",
   "mimetype": "text/x-python",
   "name": "python",
   "nbconvert_exporter": "python",
   "pygments_lexer": "ipython3",
   "version": "3.8.8"
  }
 },
 "nbformat": 4,
 "nbformat_minor": 4
}
